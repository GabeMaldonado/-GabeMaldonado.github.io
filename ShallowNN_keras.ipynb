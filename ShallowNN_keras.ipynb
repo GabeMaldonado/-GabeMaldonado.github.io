{
  "nbformat": 4,
  "nbformat_minor": 0,
  "metadata": {
    "colab": {
      "name": "ShallowNN_keras.ipynb",
      "provenance": [],
      "collapsed_sections": [],
      "include_colab_link": true
    },
    "kernelspec": {
      "name": "python3",
      "display_name": "Python 3"
    }
  },
  "cells": [
    {
      "cell_type": "markdown",
      "metadata": {
        "id": "view-in-github",
        "colab_type": "text"
      },
      "source": [
        "<a href=\"https://colab.research.google.com/github/GabeMaldonado/-GabeMaldonado.github.io/blob/master/ShallowNN_keras.ipynb\" target=\"_parent\"><img src=\"https://colab.research.google.com/assets/colab-badge.svg\" alt=\"Open In Colab\"/></a>"
      ]
    },
    {
      "cell_type": "code",
      "metadata": {
        "id": "YO84eowmuq5O",
        "colab_type": "code",
        "outputId": "b4ebd6af-260a-40ea-f20d-c0bb77bda778",
        "colab": {
          "base_uri": "https://localhost:8080/",
          "height": 80
        }
      },
      "source": [
        "import keras\n",
        "from keras.datasets import mnist\n",
        "from keras.models import Sequential\n",
        "from keras.layers import Dense\n",
        "from keras.optimizers import SGD\n",
        "\n",
        "import matplotlib.pyplot as plt "
      ],
      "execution_count": 0,
      "outputs": [
        {
          "output_type": "stream",
          "text": [
            "Using TensorFlow backend.\n"
          ],
          "name": "stderr"
        },
        {
          "output_type": "display_data",
          "data": {
            "text/html": [
              "<p style=\"color: red;\">\n",
              "The default version of TensorFlow in Colab will soon switch to TensorFlow 2.x.<br>\n",
              "We recommend you <a href=\"https://www.tensorflow.org/guide/migrate\" target=\"_blank\">upgrade</a> now \n",
              "or ensure your notebook will continue to use TensorFlow 1.x via the <code>%tensorflow_version 1.x</code> magic:\n",
              "<a href=\"https://colab.research.google.com/notebooks/tensorflow_version.ipynb\" target=\"_blank\">more info</a>.</p>\n"
            ],
            "text/plain": [
              "<IPython.core.display.HTML object>"
            ]
          },
          "metadata": {
            "tags": []
          }
        }
      ]
    },
    {
      "cell_type": "code",
      "metadata": {
        "id": "mFOu8eF2vqza",
        "colab_type": "code",
        "outputId": "5603e947-92fb-43e7-b8b8-3223e3db8a6f",
        "colab": {
          "base_uri": "https://localhost:8080/",
          "height": 51
        }
      },
      "source": [
        "# Loading the mnist data\n",
        "(X_train, y_train), (X_valid, y_valid) = mnist.load_data()"
      ],
      "execution_count": 0,
      "outputs": [
        {
          "output_type": "stream",
          "text": [
            "Downloading data from https://s3.amazonaws.com/img-datasets/mnist.npz\n",
            "11493376/11490434 [==============================] - 0s 0us/step\n"
          ],
          "name": "stdout"
        }
      ]
    },
    {
      "cell_type": "markdown",
      "metadata": {
        "id": "Di4GYnwjzE4C",
        "colab_type": "text"
      },
      "source": [
        "## Examining Training Data"
      ]
    },
    {
      "cell_type": "code",
      "metadata": {
        "id": "JVzf2K99winU",
        "colab_type": "code",
        "outputId": "a049ab87-6461-436d-bdbb-4e12b1892688",
        "colab": {
          "base_uri": "https://localhost:8080/",
          "height": 34
        }
      },
      "source": [
        "X_train.shape"
      ],
      "execution_count": 0,
      "outputs": [
        {
          "output_type": "execute_result",
          "data": {
            "text/plain": [
              "(60000, 28, 28)"
            ]
          },
          "metadata": {
            "tags": []
          },
          "execution_count": 4
        }
      ]
    },
    {
      "cell_type": "markdown",
      "metadata": {
        "id": "Zc2FX9XvxfVU",
        "colab_type": "text"
      },
      "source": [
        "That's 60,000 images that are 28x28"
      ]
    },
    {
      "cell_type": "code",
      "metadata": {
        "id": "jvFntKacxHbG",
        "colab_type": "code",
        "outputId": "0e220a68-749a-4805-8da3-1b3f5e1157b6",
        "colab": {
          "base_uri": "https://localhost:8080/",
          "height": 34
        }
      },
      "source": [
        "y_train.shape"
      ],
      "execution_count": 0,
      "outputs": [
        {
          "output_type": "execute_result",
          "data": {
            "text/plain": [
              "(60000,)"
            ]
          },
          "metadata": {
            "tags": []
          },
          "execution_count": 5
        }
      ]
    },
    {
      "cell_type": "markdown",
      "metadata": {
        "id": "YmnfE5B3xp1j",
        "colab_type": "text"
      },
      "source": [
        "This indicates the 60,000 labels."
      ]
    },
    {
      "cell_type": "code",
      "metadata": {
        "id": "_qvGcJWpxcVR",
        "colab_type": "code",
        "outputId": "77cb2e12-7c27-4ac7-be1b-a9f3eeb8d9f6",
        "colab": {
          "base_uri": "https://localhost:8080/",
          "height": 34
        }
      },
      "source": [
        "y_train[:12]"
      ],
      "execution_count": 0,
      "outputs": [
        {
          "output_type": "execute_result",
          "data": {
            "text/plain": [
              "array([5, 0, 4, 1, 9, 2, 1, 3, 1, 4, 3, 5], dtype=uint8)"
            ]
          },
          "metadata": {
            "tags": []
          },
          "execution_count": 6
        }
      ]
    },
    {
      "cell_type": "code",
      "metadata": {
        "id": "bZvx6bWBx03J",
        "colab_type": "code",
        "outputId": "474a6511-5ce8-4d49-930c-96799bd65a34",
        "colab": {
          "base_uri": "https://localhost:8080/",
          "height": 518
        }
      },
      "source": [
        "# show the first 12 digits in the data set\n",
        "plt.figure(figsize=(8,8))\n",
        "for k in range(12):\n",
        "  plt.subplot(3, 4, k+1)\n",
        "  plt.imshow(X_train[k], cmap='Greys')\n",
        "  plt.axis('off')\n",
        "plt.tight_layout()\n",
        "plt.show()"
      ],
      "execution_count": 0,
      "outputs": [
        {
          "output_type": "display_data",
          "data": {
            "image/png": "[encoded data removed]",
            "text/plain": [
              "<Figure size 576x576 with 12 Axes>"
            ]
          },
          "metadata": {
            "tags": []
          }
        }
      ]
    },
    {
      "cell_type": "markdown",
      "metadata": {
        "id": "4Tm3QTfNzKdz",
        "colab_type": "text"
      },
      "source": [
        "## Examining Validation Data"
      ]
    },
    {
      "cell_type": "code",
      "metadata": {
        "id": "NOL6ZHsAycO4",
        "colab_type": "code",
        "outputId": "5f7af67a-61c7-4ade-bbb6-ff7a0033b1f0",
        "colab": {
          "base_uri": "https://localhost:8080/",
          "height": 34
        }
      },
      "source": [
        "X_valid.shape"
      ],
      "execution_count": 0,
      "outputs": [
        {
          "output_type": "execute_result",
          "data": {
            "text/plain": [
              "(10000, 28, 28)"
            ]
          },
          "metadata": {
            "tags": []
          },
          "execution_count": 8
        }
      ]
    },
    {
      "cell_type": "code",
      "metadata": {
        "id": "FqPG9WeqzR2c",
        "colab_type": "code",
        "outputId": "f95a24ba-7c3a-4356-8bf5-9277f81180c5",
        "colab": {
          "base_uri": "https://localhost:8080/",
          "height": 34
        }
      },
      "source": [
        "y_valid.shape"
      ],
      "execution_count": 0,
      "outputs": [
        {
          "output_type": "execute_result",
          "data": {
            "text/plain": [
              "(10000,)"
            ]
          },
          "metadata": {
            "tags": []
          },
          "execution_count": 9
        }
      ]
    },
    {
      "cell_type": "code",
      "metadata": {
        "id": "3M6NX2vJzUJJ",
        "colab_type": "code",
        "outputId": "994fd435-ab48-405c-cc02-1c0116dc2616",
        "colab": {
          "base_uri": "https://localhost:8080/",
          "height": 1000
        }
      },
      "source": [
        "X_valid[0]"
      ],
      "execution_count": 0,
      "outputs": [
        {
          "output_type": "execute_result",
          "data": {
            "text/plain": [
              "array([[  0,   0,   0,   0,   0,   0,   0,   0,   0,   0,   0,   0,   0,\n",
              "          0,   0,   0,   0,   0,   0,   0,   0,   0,   0,   0,   0,   0,\n",
              "          0,   0],\n",
              "       [  0,   0,   0,   0,   0,   0,   0,   0,   0,   0,   0,   0,   0,\n",
              "          0,   0,   0,   0,   0,   0,   0,   0,   0,   0,   0,   0,   0,\n",
              "          0,   0],\n",
              "       [  0,   0,   0,   0,   0,   0,   0,   0,   0,   0,   0,   0,   0,\n",
              "          0,   0,   0,   0,   0,   0,   0,   0,   0,   0,   0,   0,   0,\n",
              "          0,   0],\n",
              "       [  0,   0,   0,   0,   0,   0,   0,   0,   0,   0,   0,   0,   0,\n",
              "          0,   0,   0,   0,   0,   0,   0,   0,   0,   0,   0,   0,   0,\n",
              "          0,   0],\n",
              "       [  0,   0,   0,   0,   0,   0,   0,   0,   0,   0,   0,   0,   0,\n",
              "          0,   0,   0,   0,   0,   0,   0,   0,   0,   0,   0,   0,   0,\n",
              "          0,   0],\n",
              "       [  0,   0,   0,   0,   0,   0,   0,   0,   0,   0,   0,   0,   0,\n",
              "          0,   0,   0,   0,   0,   0,   0,   0,   0,   0,   0,   0,   0,\n",
              "          0,   0],\n",
              "       [  0,   0,   0,   0,   0,   0,   0,   0,   0,   0,   0,   0,   0,\n",
              "          0,   0,   0,   0,   0,   0,   0,   0,   0,   0,   0,   0,   0,\n",
              "          0,   0],\n",
              "       [  0,   0,   0,   0,   0,   0,  84, 185, 159, 151,  60,  36,   0,\n",
              "          0,   0,   0,   0,   0,   0,   0,   0,   0,   0,   0,   0,   0,\n",
              "          0,   0],\n",
              "       [  0,   0,   0,   0,   0,   0, 222, 254, 254, 254, 254, 241, 198,\n",
              "        198, 198, 198, 198, 198, 198, 198, 170,  52,   0,   0,   0,   0,\n",
              "          0,   0],\n",
              "       [  0,   0,   0,   0,   0,   0,  67, 114,  72, 114, 163, 227, 254,\n",
              "        225, 254, 254, 254, 250, 229, 254, 254, 140,   0,   0,   0,   0,\n",
              "          0,   0],\n",
              "       [  0,   0,   0,   0,   0,   0,   0,   0,   0,   0,   0,  17,  66,\n",
              "         14,  67,  67,  67,  59,  21, 236, 254, 106,   0,   0,   0,   0,\n",
              "          0,   0],\n",
              "       [  0,   0,   0,   0,   0,   0,   0,   0,   0,   0,   0,   0,   0,\n",
              "          0,   0,   0,   0,   0,  83, 253, 209,  18,   0,   0,   0,   0,\n",
              "          0,   0],\n",
              "       [  0,   0,   0,   0,   0,   0,   0,   0,   0,   0,   0,   0,   0,\n",
              "          0,   0,   0,   0,  22, 233, 255,  83,   0,   0,   0,   0,   0,\n",
              "          0,   0],\n",
              "       [  0,   0,   0,   0,   0,   0,   0,   0,   0,   0,   0,   0,   0,\n",
              "          0,   0,   0,   0, 129, 254, 238,  44,   0,   0,   0,   0,   0,\n",
              "          0,   0],\n",
              "       [  0,   0,   0,   0,   0,   0,   0,   0,   0,   0,   0,   0,   0,\n",
              "          0,   0,   0,  59, 249, 254,  62,   0,   0,   0,   0,   0,   0,\n",
              "          0,   0],\n",
              "       [  0,   0,   0,   0,   0,   0,   0,   0,   0,   0,   0,   0,   0,\n",
              "          0,   0,   0, 133, 254, 187,   5,   0,   0,   0,   0,   0,   0,\n",
              "          0,   0],\n",
              "       [  0,   0,   0,   0,   0,   0,   0,   0,   0,   0,   0,   0,   0,\n",
              "          0,   0,   9, 205, 248,  58,   0,   0,   0,   0,   0,   0,   0,\n",
              "          0,   0],\n",
              "       [  0,   0,   0,   0,   0,   0,   0,   0,   0,   0,   0,   0,   0,\n",
              "          0,   0, 126, 254, 182,   0,   0,   0,   0,   0,   0,   0,   0,\n",
              "          0,   0],\n",
              "       [  0,   0,   0,   0,   0,   0,   0,   0,   0,   0,   0,   0,   0,\n",
              "          0,  75, 251, 240,  57,   0,   0,   0,   0,   0,   0,   0,   0,\n",
              "          0,   0],\n",
              "       [  0,   0,   0,   0,   0,   0,   0,   0,   0,   0,   0,   0,   0,\n",
              "         19, 221, 254, 166,   0,   0,   0,   0,   0,   0,   0,   0,   0,\n",
              "          0,   0],\n",
              "       [  0,   0,   0,   0,   0,   0,   0,   0,   0,   0,   0,   0,   3,\n",
              "        203, 254, 219,  35,   0,   0,   0,   0,   0,   0,   0,   0,   0,\n",
              "          0,   0],\n",
              "       [  0,   0,   0,   0,   0,   0,   0,   0,   0,   0,   0,   0,  38,\n",
              "        254, 254,  77,   0,   0,   0,   0,   0,   0,   0,   0,   0,   0,\n",
              "          0,   0],\n",
              "       [  0,   0,   0,   0,   0,   0,   0,   0,   0,   0,   0,  31, 224,\n",
              "        254, 115,   1,   0,   0,   0,   0,   0,   0,   0,   0,   0,   0,\n",
              "          0,   0],\n",
              "       [  0,   0,   0,   0,   0,   0,   0,   0,   0,   0,   0, 133, 254,\n",
              "        254,  52,   0,   0,   0,   0,   0,   0,   0,   0,   0,   0,   0,\n",
              "          0,   0],\n",
              "       [  0,   0,   0,   0,   0,   0,   0,   0,   0,   0,  61, 242, 254,\n",
              "        254,  52,   0,   0,   0,   0,   0,   0,   0,   0,   0,   0,   0,\n",
              "          0,   0],\n",
              "       [  0,   0,   0,   0,   0,   0,   0,   0,   0,   0, 121, 254, 254,\n",
              "        219,  40,   0,   0,   0,   0,   0,   0,   0,   0,   0,   0,   0,\n",
              "          0,   0],\n",
              "       [  0,   0,   0,   0,   0,   0,   0,   0,   0,   0, 121, 254, 207,\n",
              "         18,   0,   0,   0,   0,   0,   0,   0,   0,   0,   0,   0,   0,\n",
              "          0,   0],\n",
              "       [  0,   0,   0,   0,   0,   0,   0,   0,   0,   0,   0,   0,   0,\n",
              "          0,   0,   0,   0,   0,   0,   0,   0,   0,   0,   0,   0,   0,\n",
              "          0,   0]], dtype=uint8)"
            ]
          },
          "metadata": {
            "tags": []
          },
          "execution_count": 10
        }
      ]
    },
    {
      "cell_type": "markdown",
      "metadata": {
        "id": "QZJhIIQ5zcHm",
        "colab_type": "text"
      },
      "source": [
        "The cell above displays the matrix of integers that make up an image/digit. Each value represents a pixel which darkness can vary from 0 (white) to 255 (black)."
      ]
    },
    {
      "cell_type": "code",
      "metadata": {
        "id": "xtsQNqrwzYKp",
        "colab_type": "code",
        "outputId": "e0b538a0-69c4-4467-a7da-58496dda595c",
        "colab": {
          "base_uri": "https://localhost:8080/",
          "height": 282
        }
      },
      "source": [
        "plt.imshow(X_valid[0], cmap='Greys')"
      ],
      "execution_count": 0,
      "outputs": [
        {
          "output_type": "execute_result",
          "data": {
            "text/plain": [
              "<matplotlib.image.AxesImage at 0x7f679000e828>"
            ]
          },
          "metadata": {
            "tags": []
          },
          "execution_count": 11
        },
        {
          "output_type": "display_data",
          "data": {
            "image/png": "[encoded data removed]",
            "text/plain": [
              "<Figure size 432x288 with 1 Axes>"
            ]
          },
          "metadata": {
            "tags": []
          }
        }
      ]
    },
    {
      "cell_type": "code",
      "metadata": {
        "id": "l2etGYo_0kEk",
        "colab_type": "code",
        "outputId": "91825c2f-7864-422c-8c36-f9f3e3eda5be",
        "colab": {
          "base_uri": "https://localhost:8080/",
          "height": 34
        }
      },
      "source": [
        "y_valid[0]"
      ],
      "execution_count": 0,
      "outputs": [
        {
          "output_type": "execute_result",
          "data": {
            "text/plain": [
              "7"
            ]
          },
          "metadata": {
            "tags": []
          },
          "execution_count": 12
        }
      ]
    },
    {
      "cell_type": "markdown",
      "metadata": {
        "id": "nxDRdkin00Lo",
        "colab_type": "text"
      },
      "source": [
        "## Preprocess Data\n",
        "\n",
        "In this step, the shape data will get re-arranged from 28x28 to a flat 784-element array so it can match up the shapes of the input and output layers of the network. "
      ]
    },
    {
      "cell_type": "code",
      "metadata": {
        "id": "v7Ikv3nF0peK",
        "colab_type": "code",
        "colab": {}
      },
      "source": [
        "X_train = X_train.reshape(60000, 784).astype('float32')\n",
        "X_valid = X_valid.reshape(10000, 784).astype('float32')"
      ],
      "execution_count": 0,
      "outputs": []
    },
    {
      "cell_type": "markdown",
      "metadata": {
        "id": "wKs5ua4z2NtV",
        "colab_type": "text"
      },
      "source": [
        "Here we also normalize the data by dividing them by 255 so that the values can range from 0 to 1. "
      ]
    },
    {
      "cell_type": "code",
      "metadata": {
        "id": "mrok4yRy1heq",
        "colab_type": "code",
        "colab": {}
      },
      "source": [
        "# convert pixel integers to floats --\n",
        "X_train /= 255\n",
        "X_valid /= 255"
      ],
      "execution_count": 0,
      "outputs": []
    },
    {
      "cell_type": "code",
      "metadata": {
        "id": "MZsXHc8D2g93",
        "colab_type": "code",
        "outputId": "43cdb6ac-7bb3-4247-a979-afdf5b322177",
        "colab": {
          "base_uri": "https://localhost:8080/",
          "height": 1000
        }
      },
      "source": [
        "X_valid[0]"
      ],
      "execution_count": 0,
      "outputs": [
        {
          "output_type": "execute_result",
          "data": {
            "text/plain": [
              "array([0.        , 0.        , 0.        , 0.        , 0.        ,\n",
              "       0.        , 0.        , 0.        , 0.        , 0.        ,\n",
              "       0.        , 0.        , 0.        , 0.        , 0.        ,\n",
              "       0.        , 0.        , 0.        , 0.        , 0.        ,\n",
              "       0.        , 0.        , 0.        , 0.        , 0.        ,\n",
              "       0.        , 0.        , 0.        , 0.        , 0.        ,\n",
              "       0.        , 0.        , 0.        , 0.        , 0.        ,\n",
              "       0.        , 0.        , 0.        , 0.        , 0.        ,\n",
              "       0.        , 0.        , 0.        , 0.        , 0.        ,\n",
              "       0.        , 0.        , 0.        , 0.        , 0.        ,\n",
              "       0.        , 0.        , 0.        , 0.        , 0.        ,\n",
              "       0.        , 0.        , 0.        , 0.        , 0.        ,\n",
              "       0.        , 0.        , 0.        , 0.        , 0.        ,\n",
              "       0.        , 0.        , 0.        , 0.        , 0.        ,\n",
              "       0.        , 0.        , 0.        , 0.        , 0.        ,\n",
              "       0.        , 0.        , 0.        , 0.        , 0.        ,\n",
              "       0.        , 0.        , 0.        , 0.        , 0.        ,\n",
              "       0.        , 0.        , 0.        , 0.        , 0.        ,\n",
              "       0.        , 0.        , 0.        , 0.        , 0.        ,\n",
              "       0.        , 0.        , 0.        , 0.        , 0.        ,\n",
              "       0.        , 0.        , 0.        , 0.        , 0.        ,\n",
              "       0.        , 0.        , 0.        , 0.        , 0.        ,\n",
              "       0.        , 0.        , 0.        , 0.        , 0.        ,\n",
              "       0.        , 0.        , 0.        , 0.        , 0.        ,\n",
              "       0.        , 0.        , 0.        , 0.        , 0.        ,\n",
              "       0.        , 0.        , 0.        , 0.        , 0.        ,\n",
              "       0.        , 0.        , 0.        , 0.        , 0.        ,\n",
              "       0.        , 0.        , 0.        , 0.        , 0.        ,\n",
              "       0.        , 0.        , 0.        , 0.        , 0.        ,\n",
              "       0.        , 0.        , 0.        , 0.        , 0.        ,\n",
              "       0.        , 0.        , 0.        , 0.        , 0.        ,\n",
              "       0.        , 0.        , 0.        , 0.        , 0.        ,\n",
              "       0.        , 0.        , 0.        , 0.        , 0.        ,\n",
              "       0.        , 0.        , 0.        , 0.        , 0.        ,\n",
              "       0.        , 0.        , 0.        , 0.        , 0.        ,\n",
              "       0.        , 0.        , 0.        , 0.        , 0.        ,\n",
              "       0.        , 0.        , 0.        , 0.        , 0.        ,\n",
              "       0.        , 0.        , 0.        , 0.        , 0.        ,\n",
              "       0.        , 0.        , 0.        , 0.        , 0.        ,\n",
              "       0.        , 0.        , 0.        , 0.        , 0.        ,\n",
              "       0.        , 0.        , 0.32941177, 0.7254902 , 0.62352943,\n",
              "       0.5921569 , 0.23529412, 0.14117648, 0.        , 0.        ,\n",
              "       0.        , 0.        , 0.        , 0.        , 0.        ,\n",
              "       0.        , 0.        , 0.        , 0.        , 0.        ,\n",
              "       0.        , 0.        , 0.        , 0.        , 0.        ,\n",
              "       0.        , 0.        , 0.        , 0.        , 0.        ,\n",
              "       0.87058824, 0.99607843, 0.99607843, 0.99607843, 0.99607843,\n",
              "       0.94509804, 0.7764706 , 0.7764706 , 0.7764706 , 0.7764706 ,\n",
              "       0.7764706 , 0.7764706 , 0.7764706 , 0.7764706 , 0.6666667 ,\n",
              "       0.20392157, 0.        , 0.        , 0.        , 0.        ,\n",
              "       0.        , 0.        , 0.        , 0.        , 0.        ,\n",
              "       0.        , 0.        , 0.        , 0.2627451 , 0.44705883,\n",
              "       0.28235295, 0.44705883, 0.6392157 , 0.8901961 , 0.99607843,\n",
              "       0.88235295, 0.99607843, 0.99607843, 0.99607843, 0.98039216,\n",
              "       0.8980392 , 0.99607843, 0.99607843, 0.54901963, 0.        ,\n",
              "       0.        , 0.        , 0.        , 0.        , 0.        ,\n",
              "       0.        , 0.        , 0.        , 0.        , 0.        ,\n",
              "       0.        , 0.        , 0.        , 0.        , 0.        ,\n",
              "       0.        , 0.06666667, 0.25882354, 0.05490196, 0.2627451 ,\n",
              "       0.2627451 , 0.2627451 , 0.23137255, 0.08235294, 0.9254902 ,\n",
              "       0.99607843, 0.41568628, 0.        , 0.        , 0.        ,\n",
              "       0.        , 0.        , 0.        , 0.        , 0.        ,\n",
              "       0.        , 0.        , 0.        , 0.        , 0.        ,\n",
              "       0.        , 0.        , 0.        , 0.        , 0.        ,\n",
              "       0.        , 0.        , 0.        , 0.        , 0.        ,\n",
              "       0.        , 0.3254902 , 0.99215686, 0.81960785, 0.07058824,\n",
              "       0.        , 0.        , 0.        , 0.        , 0.        ,\n",
              "       0.        , 0.        , 0.        , 0.        , 0.        ,\n",
              "       0.        , 0.        , 0.        , 0.        , 0.        ,\n",
              "       0.        , 0.        , 0.        , 0.        , 0.        ,\n",
              "       0.        , 0.        , 0.        , 0.08627451, 0.9137255 ,\n",
              "       1.        , 0.3254902 , 0.        , 0.        , 0.        ,\n",
              "       0.        , 0.        , 0.        , 0.        , 0.        ,\n",
              "       0.        , 0.        , 0.        , 0.        , 0.        ,\n",
              "       0.        , 0.        , 0.        , 0.        , 0.        ,\n",
              "       0.        , 0.        , 0.        , 0.        , 0.        ,\n",
              "       0.        , 0.5058824 , 0.99607843, 0.93333334, 0.17254902,\n",
              "       0.        , 0.        , 0.        , 0.        , 0.        ,\n",
              "       0.        , 0.        , 0.        , 0.        , 0.        ,\n",
              "       0.        , 0.        , 0.        , 0.        , 0.        ,\n",
              "       0.        , 0.        , 0.        , 0.        , 0.        ,\n",
              "       0.        , 0.        , 0.        , 0.23137255, 0.9764706 ,\n",
              "       0.99607843, 0.24313726, 0.        , 0.        , 0.        ,\n",
              "       0.        , 0.        , 0.        , 0.        , 0.        ,\n",
              "       0.        , 0.        , 0.        , 0.        , 0.        ,\n",
              "       0.        , 0.        , 0.        , 0.        , 0.        ,\n",
              "       0.        , 0.        , 0.        , 0.        , 0.        ,\n",
              "       0.        , 0.52156866, 0.99607843, 0.73333335, 0.01960784,\n",
              "       0.        , 0.        , 0.        , 0.        , 0.        ,\n",
              "       0.        , 0.        , 0.        , 0.        , 0.        ,\n",
              "       0.        , 0.        , 0.        , 0.        , 0.        ,\n",
              "       0.        , 0.        , 0.        , 0.        , 0.        ,\n",
              "       0.        , 0.        , 0.        , 0.03529412, 0.8039216 ,\n",
              "       0.972549  , 0.22745098, 0.        , 0.        , 0.        ,\n",
              "       0.        , 0.        , 0.        , 0.        , 0.        ,\n",
              "       0.        , 0.        , 0.        , 0.        , 0.        ,\n",
              "       0.        , 0.        , 0.        , 0.        , 0.        ,\n",
              "       0.        , 0.        , 0.        , 0.        , 0.        ,\n",
              "       0.        , 0.49411765, 0.99607843, 0.7137255 , 0.        ,\n",
              "       0.        , 0.        , 0.        , 0.        , 0.        ,\n",
              "       0.        , 0.        , 0.        , 0.        , 0.        ,\n",
              "       0.        , 0.        , 0.        , 0.        , 0.        ,\n",
              "       0.        , 0.        , 0.        , 0.        , 0.        ,\n",
              "       0.        , 0.        , 0.        , 0.29411766, 0.9843137 ,\n",
              "       0.9411765 , 0.22352941, 0.        , 0.        , 0.        ,\n",
              "       0.        , 0.        , 0.        , 0.        , 0.        ,\n",
              "       0.        , 0.        , 0.        , 0.        , 0.        ,\n",
              "       0.        , 0.        , 0.        , 0.        , 0.        ,\n",
              "       0.        , 0.        , 0.        , 0.        , 0.        ,\n",
              "       0.07450981, 0.8666667 , 0.99607843, 0.6509804 , 0.        ,\n",
              "       0.        , 0.        , 0.        , 0.        , 0.        ,\n",
              "       0.        , 0.        , 0.        , 0.        , 0.        ,\n",
              "       0.        , 0.        , 0.        , 0.        , 0.        ,\n",
              "       0.        , 0.        , 0.        , 0.        , 0.        ,\n",
              "       0.        , 0.        , 0.01176471, 0.79607844, 0.99607843,\n",
              "       0.85882354, 0.13725491, 0.        , 0.        , 0.        ,\n",
              "       0.        , 0.        , 0.        , 0.        , 0.        ,\n",
              "       0.        , 0.        , 0.        , 0.        , 0.        ,\n",
              "       0.        , 0.        , 0.        , 0.        , 0.        ,\n",
              "       0.        , 0.        , 0.        , 0.        , 0.        ,\n",
              "       0.14901961, 0.99607843, 0.99607843, 0.3019608 , 0.        ,\n",
              "       0.        , 0.        , 0.        , 0.        , 0.        ,\n",
              "       0.        , 0.        , 0.        , 0.        , 0.        ,\n",
              "       0.        , 0.        , 0.        , 0.        , 0.        ,\n",
              "       0.        , 0.        , 0.        , 0.        , 0.        ,\n",
              "       0.        , 0.        , 0.12156863, 0.8784314 , 0.99607843,\n",
              "       0.4509804 , 0.00392157, 0.        , 0.        , 0.        ,\n",
              "       0.        , 0.        , 0.        , 0.        , 0.        ,\n",
              "       0.        , 0.        , 0.        , 0.        , 0.        ,\n",
              "       0.        , 0.        , 0.        , 0.        , 0.        ,\n",
              "       0.        , 0.        , 0.        , 0.        , 0.        ,\n",
              "       0.52156866, 0.99607843, 0.99607843, 0.20392157, 0.        ,\n",
              "       0.        , 0.        , 0.        , 0.        , 0.        ,\n",
              "       0.        , 0.        , 0.        , 0.        , 0.        ,\n",
              "       0.        , 0.        , 0.        , 0.        , 0.        ,\n",
              "       0.        , 0.        , 0.        , 0.        , 0.        ,\n",
              "       0.        , 0.        , 0.23921569, 0.9490196 , 0.99607843,\n",
              "       0.99607843, 0.20392157, 0.        , 0.        , 0.        ,\n",
              "       0.        , 0.        , 0.        , 0.        , 0.        ,\n",
              "       0.        , 0.        , 0.        , 0.        , 0.        ,\n",
              "       0.        , 0.        , 0.        , 0.        , 0.        ,\n",
              "       0.        , 0.        , 0.        , 0.        , 0.        ,\n",
              "       0.4745098 , 0.99607843, 0.99607843, 0.85882354, 0.15686275,\n",
              "       0.        , 0.        , 0.        , 0.        , 0.        ,\n",
              "       0.        , 0.        , 0.        , 0.        , 0.        ,\n",
              "       0.        , 0.        , 0.        , 0.        , 0.        ,\n",
              "       0.        , 0.        , 0.        , 0.        , 0.        ,\n",
              "       0.        , 0.        , 0.        , 0.4745098 , 0.99607843,\n",
              "       0.8117647 , 0.07058824, 0.        , 0.        , 0.        ,\n",
              "       0.        , 0.        , 0.        , 0.        , 0.        ,\n",
              "       0.        , 0.        , 0.        , 0.        , 0.        ,\n",
              "       0.        , 0.        , 0.        , 0.        , 0.        ,\n",
              "       0.        , 0.        , 0.        , 0.        , 0.        ,\n",
              "       0.        , 0.        , 0.        , 0.        , 0.        ,\n",
              "       0.        , 0.        , 0.        , 0.        , 0.        ,\n",
              "       0.        , 0.        , 0.        , 0.        , 0.        ,\n",
              "       0.        , 0.        , 0.        , 0.        ], dtype=float32)"
            ]
          },
          "metadata": {
            "tags": []
          },
          "execution_count": 16
        }
      ]
    },
    {
      "cell_type": "code",
      "metadata": {
        "id": "bIvfex5u2kWg",
        "colab_type": "code",
        "outputId": "a2a2968f-d3aa-41b8-c88f-9329261ccacb",
        "colab": {
          "base_uri": "https://localhost:8080/",
          "height": 34
        }
      },
      "source": [
        "y_valid[0]"
      ],
      "execution_count": 0,
      "outputs": [
        {
          "output_type": "execute_result",
          "data": {
            "text/plain": [
              "7"
            ]
          },
          "metadata": {
            "tags": []
          },
          "execution_count": 17
        }
      ]
    },
    {
      "cell_type": "markdown",
      "metadata": {
        "id": "ilJ1G2hn2ySE",
        "colab_type": "text"
      },
      "source": [
        "## Converting integer labels to one-hot-encodings. \n",
        "\n",
        "We have 10 posible labels for all the digits so we set the number of classes = 10. We will also use keras `.to_categorical` function to convert the training and validation labels to a one-hot-encoding format. We will print the label at index[0] again to see how it has changed."
      ]
    },
    {
      "cell_type": "code",
      "metadata": {
        "id": "hvqJxCw92qxg",
        "colab_type": "code",
        "colab": {}
      },
      "source": [
        "n_classes = 10\n",
        "y_train = keras.utils.to_categorical(y_train, n_classes)\n",
        "y_valid = keras.utils.to_categorical(y_valid, n_classes)"
      ],
      "execution_count": 0,
      "outputs": []
    },
    {
      "cell_type": "code",
      "metadata": {
        "id": "1maOsJKV33VF",
        "colab_type": "code",
        "outputId": "95686b4a-1ab9-46aa-87e8-c4b036e4dcc4",
        "colab": {
          "base_uri": "https://localhost:8080/",
          "height": 34
        }
      },
      "source": [
        "y_valid[0]"
      ],
      "execution_count": 0,
      "outputs": [
        {
          "output_type": "execute_result",
          "data": {
            "text/plain": [
              "array([0., 0., 0., 0., 0., 0., 0., 1., 0., 0.], dtype=float32)"
            ]
          },
          "metadata": {
            "tags": []
          },
          "execution_count": 19
        }
      ]
    },
    {
      "cell_type": "markdown",
      "metadata": {
        "id": "zfoCabRz4jlA",
        "colab_type": "text"
      },
      "source": [
        "## Designing the Neural Network Architecture\n",
        "\n",
        "There are many ways to design the architecture of the NN. We'll design a very simple architecture for this example."
      ]
    },
    {
      "cell_type": "code",
      "metadata": {
        "id": "5Lf6LpyZ35AE",
        "colab_type": "code",
        "outputId": "a942df63-dbb6-47fb-f6e4-bcd991ab74ce",
        "colab": {
          "base_uri": "https://localhost:8080/",
          "height": 139
        }
      },
      "source": [
        "model = Sequential()\n",
        "model.add(Dense(64, activation='sigmoid', input_shape=(784,)))\n",
        "model.add(Dense(10, activation='softmax'))"
      ],
      "execution_count": 0,
      "outputs": [
        {
          "output_type": "stream",
          "text": [
            "WARNING:tensorflow:From /usr/local/lib/python3.6/dist-packages/keras/backend/tensorflow_backend.py:66: The name tf.get_default_graph is deprecated. Please use tf.compat.v1.get_default_graph instead.\n",
            "\n",
            "WARNING:tensorflow:From /usr/local/lib/python3.6/dist-packages/keras/backend/tensorflow_backend.py:541: The name tf.placeholder is deprecated. Please use tf.compat.v1.placeholder instead.\n",
            "\n",
            "WARNING:tensorflow:From /usr/local/lib/python3.6/dist-packages/keras/backend/tensorflow_backend.py:4432: The name tf.random_uniform is deprecated. Please use tf.random.uniform instead.\n",
            "\n"
          ],
          "name": "stdout"
        }
      ]
    },
    {
      "cell_type": "markdown",
      "metadata": {
        "id": "YbgqBvOa5xkk",
        "colab_type": "text"
      },
      "source": [
        "Print the summary of the neetwork architecture."
      ]
    },
    {
      "cell_type": "code",
      "metadata": {
        "id": "cFxeSab_5Q8v",
        "colab_type": "code",
        "outputId": "17f8b441-3dc9-4e8a-fca6-f46de43d323b",
        "colab": {
          "base_uri": "https://localhost:8080/",
          "height": 221
        }
      },
      "source": [
        "model.summary()"
      ],
      "execution_count": 0,
      "outputs": [
        {
          "output_type": "stream",
          "text": [
            "Model: \"sequential_1\"\n",
            "_________________________________________________________________\n",
            "Layer (type)                 Output Shape              Param #   \n",
            "=================================================================\n",
            "dense_1 (Dense)              (None, 64)                50240     \n",
            "_________________________________________________________________\n",
            "dense_2 (Dense)              (None, 10)                650       \n",
            "=================================================================\n",
            "Total params: 50,890\n",
            "Trainable params: 50,890\n",
            "Non-trainable params: 0\n",
            "_________________________________________________________________\n"
          ],
          "name": "stdout"
        }
      ]
    },
    {
      "cell_type": "markdown",
      "metadata": {
        "id": "q9PZ9gjR6ShB",
        "colab_type": "text"
      },
      "source": [
        "Configure model"
      ]
    },
    {
      "cell_type": "code",
      "metadata": {
        "id": "74djuzkB55rg",
        "colab_type": "code",
        "outputId": "42cf9ec3-7678-4e1c-e140-f9ea005b3d50",
        "colab": {
          "base_uri": "https://localhost:8080/",
          "height": 51
        }
      },
      "source": [
        "model.compile(loss='mean_squared_error', optimizer=SGD(lr=0.01), metrics=['accuracy'])"
      ],
      "execution_count": 0,
      "outputs": [
        {
          "output_type": "stream",
          "text": [
            "WARNING:tensorflow:From /usr/local/lib/python3.6/dist-packages/keras/optimizers.py:793: The name tf.train.Optimizer is deprecated. Please use tf.compat.v1.train.Optimizer instead.\n",
            "\n"
          ],
          "name": "stdout"
        }
      ]
    },
    {
      "cell_type": "markdown",
      "metadata": {
        "id": "K3lTg4O16nqw",
        "colab_type": "text"
      },
      "source": [
        "Train Model"
      ]
    },
    {
      "cell_type": "code",
      "metadata": {
        "id": "ANKwJE6-6jeu",
        "colab_type": "code",
        "outputId": "8a0b902f-2a24-465b-a12e-93a19c90384d",
        "colab": {
          "base_uri": "https://localhost:8080/",
          "height": 1000
        }
      },
      "source": [
        "model.fit(X_train, y_train, batch_size=128, epochs=200, verbose=1, validation_data=(X_valid, y_valid))"
      ],
      "execution_count": 0,
      "outputs": [
        {
          "output_type": "stream",
          "text": [
            "WARNING:tensorflow:From /usr/local/lib/python3.6/dist-packages/keras/backend/tensorflow_backend.py:1033: The name tf.assign_add is deprecated. Please use tf.compat.v1.assign_add instead.\n",
            "\n",
            "WARNING:tensorflow:From /usr/local/lib/python3.6/dist-packages/keras/backend/tensorflow_backend.py:1020: The name tf.assign is deprecated. Please use tf.compat.v1.assign instead.\n",
            "\n",
            "WARNING:tensorflow:From /usr/local/lib/python3.6/dist-packages/keras/backend/tensorflow_backend.py:3005: The name tf.Session is deprecated. Please use tf.compat.v1.Session instead.\n",
            "\n",
            "Train on 60000 samples, validate on 10000 samples\n",
            "Epoch 1/200\n",
            "WARNING:tensorflow:From /usr/local/lib/python3.6/dist-packages/keras/backend/tensorflow_backend.py:190: The name tf.get_default_session is deprecated. Please use tf.compat.v1.get_default_session instead.\n",
            "\n",
            "WARNING:tensorflow:From /usr/local/lib/python3.6/dist-packages/keras/backend/tensorflow_backend.py:197: The name tf.ConfigProto is deprecated. Please use tf.compat.v1.ConfigProto instead.\n",
            "\n",
            "WARNING:tensorflow:From /usr/local/lib/python3.6/dist-packages/keras/backend/tensorflow_backend.py:207: The name tf.global_variables is deprecated. Please use tf.compat.v1.global_variables instead.\n",
            "\n",
            "WARNING:tensorflow:From /usr/local/lib/python3.6/dist-packages/keras/backend/tensorflow_backend.py:216: The name tf.is_variable_initialized is deprecated. Please use tf.compat.v1.is_variable_initialized instead.\n",
            "\n",
            "WARNING:tensorflow:From /usr/local/lib/python3.6/dist-packages/keras/backend/tensorflow_backend.py:223: The name tf.variables_initializer is deprecated. Please use tf.compat.v1.variables_initializer instead.\n",
            "\n",
            "60000/60000 [==============================] - 2s 30us/step - loss: 0.0965 - acc: 0.1082 - val_loss: 0.0939 - val_acc: 0.1241\n",
            "Epoch 2/200\n",
            "60000/60000 [==============================] - 1s 22us/step - loss: 0.0927 - acc: 0.1413 - val_loss: 0.0918 - val_acc: 0.1615\n",
            "Epoch 3/200\n",
            "60000/60000 [==============================] - 1s 21us/step - loss: 0.0912 - acc: 0.1791 - val_loss: 0.0908 - val_acc: 0.1976\n",
            "Epoch 4/200\n",
            "60000/60000 [==============================] - 1s 22us/step - loss: 0.0903 - acc: 0.2026 - val_loss: 0.0900 - val_acc: 0.2084\n",
            "Epoch 5/200\n",
            "60000/60000 [==============================] - 1s 22us/step - loss: 0.0897 - acc: 0.2113 - val_loss: 0.0895 - val_acc: 0.2146\n",
            "Epoch 6/200\n",
            "60000/60000 [==============================] - 1s 22us/step - loss: 0.0893 - acc: 0.2170 - val_loss: 0.0891 - val_acc: 0.2205\n",
            "Epoch 7/200\n",
            "60000/60000 [==============================] - 1s 22us/step - loss: 0.0889 - acc: 0.2265 - val_loss: 0.0887 - val_acc: 0.2313\n",
            "Epoch 8/200\n",
            "60000/60000 [==============================] - 1s 22us/step - loss: 0.0885 - acc: 0.2410 - val_loss: 0.0884 - val_acc: 0.2446\n",
            "Epoch 9/200\n",
            "60000/60000 [==============================] - 1s 22us/step - loss: 0.0882 - acc: 0.2552 - val_loss: 0.0880 - val_acc: 0.2588\n",
            "Epoch 10/200\n",
            "60000/60000 [==============================] - 1s 22us/step - loss: 0.0879 - acc: 0.2692 - val_loss: 0.0877 - val_acc: 0.2726\n",
            "Epoch 11/200\n",
            "60000/60000 [==============================] - 1s 22us/step - loss: 0.0876 - acc: 0.2803 - val_loss: 0.0874 - val_acc: 0.2841\n",
            "Epoch 12/200\n",
            "60000/60000 [==============================] - 1s 22us/step - loss: 0.0873 - acc: 0.2915 - val_loss: 0.0871 - val_acc: 0.2932\n",
            "Epoch 13/200\n",
            "60000/60000 [==============================] - 1s 22us/step - loss: 0.0869 - acc: 0.3004 - val_loss: 0.0868 - val_acc: 0.3028\n",
            "Epoch 14/200\n",
            "60000/60000 [==============================] - 1s 21us/step - loss: 0.0866 - acc: 0.3092 - val_loss: 0.0865 - val_acc: 0.3112\n",
            "Epoch 15/200\n",
            "60000/60000 [==============================] - 1s 22us/step - loss: 0.0863 - acc: 0.3157 - val_loss: 0.0861 - val_acc: 0.3182\n",
            "Epoch 16/200\n",
            "60000/60000 [==============================] - 1s 22us/step - loss: 0.0860 - acc: 0.3227 - val_loss: 0.0858 - val_acc: 0.3292\n",
            "Epoch 17/200\n",
            "60000/60000 [==============================] - 1s 22us/step - loss: 0.0856 - acc: 0.3303 - val_loss: 0.0855 - val_acc: 0.3408\n",
            "Epoch 18/200\n",
            "60000/60000 [==============================] - 1s 22us/step - loss: 0.0853 - acc: 0.3399 - val_loss: 0.0851 - val_acc: 0.3492\n",
            "Epoch 19/200\n",
            "60000/60000 [==============================] - 1s 21us/step - loss: 0.0850 - acc: 0.3513 - val_loss: 0.0847 - val_acc: 0.3622\n",
            "Epoch 20/200\n",
            "60000/60000 [==============================] - 1s 21us/step - loss: 0.0846 - acc: 0.3632 - val_loss: 0.0844 - val_acc: 0.3763\n",
            "Epoch 21/200\n",
            "60000/60000 [==============================] - 1s 22us/step - loss: 0.0842 - acc: 0.3730 - val_loss: 0.0840 - val_acc: 0.3882\n",
            "Epoch 22/200\n",
            "60000/60000 [==============================] - 1s 22us/step - loss: 0.0839 - acc: 0.3871 - val_loss: 0.0836 - val_acc: 0.4003\n",
            "Epoch 23/200\n",
            "60000/60000 [==============================] - 1s 22us/step - loss: 0.0835 - acc: 0.4001 - val_loss: 0.0832 - val_acc: 0.4137\n",
            "Epoch 24/200\n",
            "60000/60000 [==============================] - 1s 22us/step - loss: 0.0831 - acc: 0.4149 - val_loss: 0.0829 - val_acc: 0.4273\n",
            "Epoch 25/200\n",
            "60000/60000 [==============================] - 1s 22us/step - loss: 0.0827 - acc: 0.4279 - val_loss: 0.0824 - val_acc: 0.4410\n",
            "Epoch 26/200\n",
            "60000/60000 [==============================] - 1s 22us/step - loss: 0.0823 - acc: 0.4379 - val_loss: 0.0820 - val_acc: 0.4528\n",
            "Epoch 27/200\n",
            "60000/60000 [==============================] - 1s 22us/step - loss: 0.0819 - acc: 0.4488 - val_loss: 0.0816 - val_acc: 0.4610\n",
            "Epoch 28/200\n",
            "60000/60000 [==============================] - 1s 22us/step - loss: 0.0815 - acc: 0.4573 - val_loss: 0.0812 - val_acc: 0.4664\n",
            "Epoch 29/200\n",
            "60000/60000 [==============================] - 1s 22us/step - loss: 0.0811 - acc: 0.4626 - val_loss: 0.0808 - val_acc: 0.4708\n",
            "Epoch 30/200\n",
            "60000/60000 [==============================] - 1s 21us/step - loss: 0.0806 - acc: 0.4697 - val_loss: 0.0803 - val_acc: 0.4751\n",
            "Epoch 31/200\n",
            "60000/60000 [==============================] - 1s 22us/step - loss: 0.0802 - acc: 0.4735 - val_loss: 0.0799 - val_acc: 0.4800\n",
            "Epoch 32/200\n",
            "60000/60000 [==============================] - 1s 21us/step - loss: 0.0797 - acc: 0.4786 - val_loss: 0.0794 - val_acc: 0.4846\n",
            "Epoch 33/200\n",
            "60000/60000 [==============================] - 1s 21us/step - loss: 0.0793 - acc: 0.4832 - val_loss: 0.0790 - val_acc: 0.4878\n",
            "Epoch 34/200\n",
            "60000/60000 [==============================] - 1s 21us/step - loss: 0.0788 - acc: 0.4860 - val_loss: 0.0785 - val_acc: 0.4927\n",
            "Epoch 35/200\n",
            "60000/60000 [==============================] - 1s 22us/step - loss: 0.0784 - acc: 0.4906 - val_loss: 0.0780 - val_acc: 0.4955\n",
            "Epoch 36/200\n",
            "60000/60000 [==============================] - 1s 21us/step - loss: 0.0779 - acc: 0.4951 - val_loss: 0.0775 - val_acc: 0.5005\n",
            "Epoch 37/200\n",
            "60000/60000 [==============================] - 1s 21us/step - loss: 0.0774 - acc: 0.4990 - val_loss: 0.0770 - val_acc: 0.5063\n",
            "Epoch 38/200\n",
            "60000/60000 [==============================] - 1s 22us/step - loss: 0.0769 - acc: 0.5047 - val_loss: 0.0766 - val_acc: 0.5113\n",
            "Epoch 39/200\n",
            "60000/60000 [==============================] - 1s 22us/step - loss: 0.0765 - acc: 0.5104 - val_loss: 0.0761 - val_acc: 0.5155\n",
            "Epoch 40/200\n",
            "60000/60000 [==============================] - 1s 21us/step - loss: 0.0760 - acc: 0.5138 - val_loss: 0.0756 - val_acc: 0.5209\n",
            "Epoch 41/200\n",
            "60000/60000 [==============================] - 1s 22us/step - loss: 0.0755 - acc: 0.5189 - val_loss: 0.0751 - val_acc: 0.5277\n",
            "Epoch 42/200\n",
            "60000/60000 [==============================] - 1s 21us/step - loss: 0.0750 - acc: 0.5245 - val_loss: 0.0746 - val_acc: 0.5352\n",
            "Epoch 43/200\n",
            "60000/60000 [==============================] - 1s 21us/step - loss: 0.0745 - acc: 0.5301 - val_loss: 0.0740 - val_acc: 0.5408\n",
            "Epoch 44/200\n",
            "60000/60000 [==============================] - 1s 22us/step - loss: 0.0740 - acc: 0.5349 - val_loss: 0.0735 - val_acc: 0.5457\n",
            "Epoch 45/200\n",
            "60000/60000 [==============================] - 1s 22us/step - loss: 0.0735 - acc: 0.5405 - val_loss: 0.0730 - val_acc: 0.5502\n",
            "Epoch 46/200\n",
            "60000/60000 [==============================] - 1s 22us/step - loss: 0.0730 - acc: 0.5463 - val_loss: 0.0725 - val_acc: 0.5574\n",
            "Epoch 47/200\n",
            "60000/60000 [==============================] - 1s 21us/step - loss: 0.0724 - acc: 0.5528 - val_loss: 0.0720 - val_acc: 0.5624\n",
            "Epoch 48/200\n",
            "60000/60000 [==============================] - 1s 21us/step - loss: 0.0719 - acc: 0.5583 - val_loss: 0.0714 - val_acc: 0.5689\n",
            "Epoch 49/200\n",
            "60000/60000 [==============================] - 1s 21us/step - loss: 0.0714 - acc: 0.5648 - val_loss: 0.0709 - val_acc: 0.5728\n",
            "Epoch 50/200\n",
            "60000/60000 [==============================] - 1s 21us/step - loss: 0.0709 - acc: 0.5697 - val_loss: 0.0704 - val_acc: 0.5786\n",
            "Epoch 51/200\n",
            "60000/60000 [==============================] - 1s 22us/step - loss: 0.0704 - acc: 0.5756 - val_loss: 0.0699 - val_acc: 0.5829\n",
            "Epoch 52/200\n",
            "60000/60000 [==============================] - 1s 21us/step - loss: 0.0699 - acc: 0.5813 - val_loss: 0.0693 - val_acc: 0.5883\n",
            "Epoch 53/200\n",
            "60000/60000 [==============================] - 1s 22us/step - loss: 0.0693 - acc: 0.5861 - val_loss: 0.0688 - val_acc: 0.5942\n",
            "Epoch 54/200\n",
            "60000/60000 [==============================] - 1s 22us/step - loss: 0.0688 - acc: 0.5918 - val_loss: 0.0683 - val_acc: 0.5982\n",
            "Epoch 55/200\n",
            "60000/60000 [==============================] - 1s 23us/step - loss: 0.0683 - acc: 0.5957 - val_loss: 0.0678 - val_acc: 0.6038\n",
            "Epoch 56/200\n",
            "60000/60000 [==============================] - 1s 22us/step - loss: 0.0678 - acc: 0.6009 - val_loss: 0.0672 - val_acc: 0.6085\n",
            "Epoch 57/200\n",
            "60000/60000 [==============================] - 1s 23us/step - loss: 0.0673 - acc: 0.6051 - val_loss: 0.0667 - val_acc: 0.6120\n",
            "Epoch 58/200\n",
            "60000/60000 [==============================] - 1s 23us/step - loss: 0.0668 - acc: 0.6090 - val_loss: 0.0662 - val_acc: 0.6165\n",
            "Epoch 59/200\n",
            "60000/60000 [==============================] - 1s 23us/step - loss: 0.0663 - acc: 0.6129 - val_loss: 0.0657 - val_acc: 0.6210\n",
            "Epoch 60/200\n",
            "60000/60000 [==============================] - 1s 23us/step - loss: 0.0658 - acc: 0.6166 - val_loss: 0.0652 - val_acc: 0.6256\n",
            "Epoch 61/200\n",
            "60000/60000 [==============================] - 1s 23us/step - loss: 0.0652 - acc: 0.6199 - val_loss: 0.0647 - val_acc: 0.6285\n",
            "Epoch 62/200\n",
            "60000/60000 [==============================] - 1s 24us/step - loss: 0.0647 - acc: 0.6242 - val_loss: 0.0641 - val_acc: 0.6317\n",
            "Epoch 63/200\n",
            "60000/60000 [==============================] - 1s 21us/step - loss: 0.0642 - acc: 0.6278 - val_loss: 0.0636 - val_acc: 0.6357\n",
            "Epoch 64/200\n",
            "60000/60000 [==============================] - 1s 21us/step - loss: 0.0637 - acc: 0.6310 - val_loss: 0.0631 - val_acc: 0.6387\n",
            "Epoch 65/200\n",
            "60000/60000 [==============================] - 1s 22us/step - loss: 0.0633 - acc: 0.6338 - val_loss: 0.0626 - val_acc: 0.6419\n",
            "Epoch 66/200\n",
            "60000/60000 [==============================] - 1s 22us/step - loss: 0.0628 - acc: 0.6371 - val_loss: 0.0621 - val_acc: 0.6456\n",
            "Epoch 67/200\n",
            "60000/60000 [==============================] - 1s 21us/step - loss: 0.0623 - acc: 0.6404 - val_loss: 0.0616 - val_acc: 0.6482\n",
            "Epoch 68/200\n",
            "60000/60000 [==============================] - 1s 22us/step - loss: 0.0618 - acc: 0.6430 - val_loss: 0.0611 - val_acc: 0.6520\n",
            "Epoch 69/200\n",
            "60000/60000 [==============================] - 1s 22us/step - loss: 0.0613 - acc: 0.6461 - val_loss: 0.0606 - val_acc: 0.6553\n",
            "Epoch 70/200\n",
            "60000/60000 [==============================] - 1s 22us/step - loss: 0.0608 - acc: 0.6493 - val_loss: 0.0602 - val_acc: 0.6584\n",
            "Epoch 71/200\n",
            "60000/60000 [==============================] - 1s 22us/step - loss: 0.0604 - acc: 0.6525 - val_loss: 0.0597 - val_acc: 0.6620\n",
            "Epoch 72/200\n",
            "60000/60000 [==============================] - 1s 22us/step - loss: 0.0599 - acc: 0.6553 - val_loss: 0.0592 - val_acc: 0.6648\n",
            "Epoch 73/200\n",
            "60000/60000 [==============================] - 1s 22us/step - loss: 0.0594 - acc: 0.6585 - val_loss: 0.0587 - val_acc: 0.6676\n",
            "Epoch 74/200\n",
            "60000/60000 [==============================] - 1s 22us/step - loss: 0.0590 - acc: 0.6621 - val_loss: 0.0583 - val_acc: 0.6713\n",
            "Epoch 75/200\n",
            "60000/60000 [==============================] - 1s 22us/step - loss: 0.0585 - acc: 0.6647 - val_loss: 0.0578 - val_acc: 0.6751\n",
            "Epoch 76/200\n",
            "60000/60000 [==============================] - 1s 21us/step - loss: 0.0581 - acc: 0.6677 - val_loss: 0.0574 - val_acc: 0.6781\n",
            "Epoch 77/200\n",
            "60000/60000 [==============================] - 1s 22us/step - loss: 0.0576 - acc: 0.6700 - val_loss: 0.0569 - val_acc: 0.6811\n",
            "Epoch 78/200\n",
            "60000/60000 [==============================] - 1s 21us/step - loss: 0.0572 - acc: 0.6733 - val_loss: 0.0565 - val_acc: 0.6850\n",
            "Epoch 79/200\n",
            "60000/60000 [==============================] - 1s 22us/step - loss: 0.0567 - acc: 0.6762 - val_loss: 0.0560 - val_acc: 0.6886\n",
            "Epoch 80/200\n",
            "60000/60000 [==============================] - 1s 22us/step - loss: 0.0563 - acc: 0.6790 - val_loss: 0.0556 - val_acc: 0.6917\n",
            "Epoch 81/200\n",
            "60000/60000 [==============================] - 1s 22us/step - loss: 0.0559 - acc: 0.6818 - val_loss: 0.0552 - val_acc: 0.6941\n",
            "Epoch 82/200\n",
            "60000/60000 [==============================] - 1s 22us/step - loss: 0.0555 - acc: 0.6847 - val_loss: 0.0547 - val_acc: 0.6980\n",
            "Epoch 83/200\n",
            "60000/60000 [==============================] - 1s 22us/step - loss: 0.0550 - acc: 0.6876 - val_loss: 0.0543 - val_acc: 0.6998\n",
            "Epoch 84/200\n",
            "60000/60000 [==============================] - 1s 22us/step - loss: 0.0546 - acc: 0.6905 - val_loss: 0.0539 - val_acc: 0.7026\n",
            "Epoch 85/200\n",
            "60000/60000 [==============================] - 1s 22us/step - loss: 0.0542 - acc: 0.6935 - val_loss: 0.0535 - val_acc: 0.7051\n",
            "Epoch 86/200\n",
            "60000/60000 [==============================] - 1s 22us/step - loss: 0.0538 - acc: 0.6966 - val_loss: 0.0531 - val_acc: 0.7067\n",
            "Epoch 87/200\n",
            "60000/60000 [==============================] - 1s 21us/step - loss: 0.0534 - acc: 0.6987 - val_loss: 0.0527 - val_acc: 0.7101\n",
            "Epoch 88/200\n",
            "60000/60000 [==============================] - 1s 22us/step - loss: 0.0530 - acc: 0.7014 - val_loss: 0.0523 - val_acc: 0.7122\n",
            "Epoch 89/200\n",
            "60000/60000 [==============================] - 1s 21us/step - loss: 0.0527 - acc: 0.7041 - val_loss: 0.0519 - val_acc: 0.7154\n",
            "Epoch 90/200\n",
            "60000/60000 [==============================] - 1s 22us/step - loss: 0.0523 - acc: 0.7066 - val_loss: 0.0515 - val_acc: 0.7181\n",
            "Epoch 91/200\n",
            "60000/60000 [==============================] - 1s 22us/step - loss: 0.0519 - acc: 0.7092 - val_loss: 0.0511 - val_acc: 0.7212\n",
            "Epoch 92/200\n",
            "60000/60000 [==============================] - 1s 22us/step - loss: 0.0515 - acc: 0.7122 - val_loss: 0.0508 - val_acc: 0.7241\n",
            "Epoch 93/200\n",
            "60000/60000 [==============================] - 1s 22us/step - loss: 0.0512 - acc: 0.7147 - val_loss: 0.0504 - val_acc: 0.7262\n",
            "Epoch 94/200\n",
            "60000/60000 [==============================] - 1s 22us/step - loss: 0.0508 - acc: 0.7167 - val_loss: 0.0500 - val_acc: 0.7289\n",
            "Epoch 95/200\n",
            "60000/60000 [==============================] - 1s 22us/step - loss: 0.0505 - acc: 0.7192 - val_loss: 0.0497 - val_acc: 0.7317\n",
            "Epoch 96/200\n",
            "60000/60000 [==============================] - 1s 22us/step - loss: 0.0501 - acc: 0.7212 - val_loss: 0.0493 - val_acc: 0.7340\n",
            "Epoch 97/200\n",
            "60000/60000 [==============================] - 1s 22us/step - loss: 0.0498 - acc: 0.7241 - val_loss: 0.0490 - val_acc: 0.7359\n",
            "Epoch 98/200\n",
            "60000/60000 [==============================] - 1s 22us/step - loss: 0.0494 - acc: 0.7255 - val_loss: 0.0486 - val_acc: 0.7375\n",
            "Epoch 99/200\n",
            "60000/60000 [==============================] - 1s 21us/step - loss: 0.0491 - acc: 0.7275 - val_loss: 0.0483 - val_acc: 0.7402\n",
            "Epoch 100/200\n",
            "60000/60000 [==============================] - 1s 22us/step - loss: 0.0487 - acc: 0.7302 - val_loss: 0.0480 - val_acc: 0.7422\n",
            "Epoch 101/200\n",
            "60000/60000 [==============================] - 1s 22us/step - loss: 0.0484 - acc: 0.7324 - val_loss: 0.0476 - val_acc: 0.7439\n",
            "Epoch 102/200\n",
            "60000/60000 [==============================] - 1s 22us/step - loss: 0.0481 - acc: 0.7343 - val_loss: 0.0473 - val_acc: 0.7457\n",
            "Epoch 103/200\n",
            "60000/60000 [==============================] - 1s 22us/step - loss: 0.0478 - acc: 0.7366 - val_loss: 0.0470 - val_acc: 0.7466\n",
            "Epoch 104/200\n",
            "60000/60000 [==============================] - 1s 22us/step - loss: 0.0475 - acc: 0.7384 - val_loss: 0.0467 - val_acc: 0.7486\n",
            "Epoch 105/200\n",
            "60000/60000 [==============================] - 1s 21us/step - loss: 0.0472 - acc: 0.7401 - val_loss: 0.0464 - val_acc: 0.7502\n",
            "Epoch 106/200\n",
            "60000/60000 [==============================] - 1s 22us/step - loss: 0.0469 - acc: 0.7422 - val_loss: 0.0460 - val_acc: 0.7519\n",
            "Epoch 107/200\n",
            "60000/60000 [==============================] - 1s 22us/step - loss: 0.0466 - acc: 0.7444 - val_loss: 0.0457 - val_acc: 0.7543\n",
            "Epoch 108/200\n",
            "60000/60000 [==============================] - 1s 22us/step - loss: 0.0463 - acc: 0.7463 - val_loss: 0.0455 - val_acc: 0.7566\n",
            "Epoch 109/200\n",
            "60000/60000 [==============================] - 1s 22us/step - loss: 0.0460 - acc: 0.7481 - val_loss: 0.0452 - val_acc: 0.7582\n",
            "Epoch 110/200\n",
            "60000/60000 [==============================] - 1s 22us/step - loss: 0.0457 - acc: 0.7502 - val_loss: 0.0449 - val_acc: 0.7597\n",
            "Epoch 111/200\n",
            "60000/60000 [==============================] - 1s 21us/step - loss: 0.0454 - acc: 0.7514 - val_loss: 0.0446 - val_acc: 0.7610\n",
            "Epoch 112/200\n",
            "60000/60000 [==============================] - 1s 22us/step - loss: 0.0451 - acc: 0.7531 - val_loss: 0.0443 - val_acc: 0.7620\n",
            "Epoch 113/200\n",
            "60000/60000 [==============================] - 1s 22us/step - loss: 0.0449 - acc: 0.7540 - val_loss: 0.0440 - val_acc: 0.7633\n",
            "Epoch 114/200\n",
            "60000/60000 [==============================] - 1s 22us/step - loss: 0.0446 - acc: 0.7553 - val_loss: 0.0438 - val_acc: 0.7646\n",
            "Epoch 115/200\n",
            "60000/60000 [==============================] - 1s 22us/step - loss: 0.0443 - acc: 0.7568 - val_loss: 0.0435 - val_acc: 0.7660\n",
            "Epoch 116/200\n",
            "60000/60000 [==============================] - 1s 22us/step - loss: 0.0441 - acc: 0.7579 - val_loss: 0.0432 - val_acc: 0.7665\n",
            "Epoch 117/200\n",
            "60000/60000 [==============================] - 1s 22us/step - loss: 0.0438 - acc: 0.7592 - val_loss: 0.0430 - val_acc: 0.7678\n",
            "Epoch 118/200\n",
            "60000/60000 [==============================] - 1s 22us/step - loss: 0.0435 - acc: 0.7610 - val_loss: 0.0427 - val_acc: 0.7689\n",
            "Epoch 119/200\n",
            "60000/60000 [==============================] - 1s 22us/step - loss: 0.0433 - acc: 0.7618 - val_loss: 0.0424 - val_acc: 0.7704\n",
            "Epoch 120/200\n",
            "60000/60000 [==============================] - 1s 22us/step - loss: 0.0430 - acc: 0.7631 - val_loss: 0.0422 - val_acc: 0.7715\n",
            "Epoch 121/200\n",
            "60000/60000 [==============================] - 1s 22us/step - loss: 0.0428 - acc: 0.7647 - val_loss: 0.0419 - val_acc: 0.7722\n",
            "Epoch 122/200\n",
            "60000/60000 [==============================] - 1s 22us/step - loss: 0.0425 - acc: 0.7657 - val_loss: 0.0417 - val_acc: 0.7738\n",
            "Epoch 123/200\n",
            "60000/60000 [==============================] - 1s 22us/step - loss: 0.0423 - acc: 0.7663 - val_loss: 0.0415 - val_acc: 0.7748\n",
            "Epoch 124/200\n",
            "60000/60000 [==============================] - 1s 22us/step - loss: 0.0421 - acc: 0.7676 - val_loss: 0.0412 - val_acc: 0.7760\n",
            "Epoch 125/200\n",
            "60000/60000 [==============================] - 1s 21us/step - loss: 0.0418 - acc: 0.7684 - val_loss: 0.0410 - val_acc: 0.7767\n",
            "Epoch 126/200\n",
            "60000/60000 [==============================] - 1s 22us/step - loss: 0.0416 - acc: 0.7694 - val_loss: 0.0407 - val_acc: 0.7778\n",
            "Epoch 127/200\n",
            "60000/60000 [==============================] - 1s 22us/step - loss: 0.0414 - acc: 0.7703 - val_loss: 0.0405 - val_acc: 0.7791\n",
            "Epoch 128/200\n",
            "60000/60000 [==============================] - 1s 22us/step - loss: 0.0411 - acc: 0.7710 - val_loss: 0.0403 - val_acc: 0.7797\n",
            "Epoch 129/200\n",
            "60000/60000 [==============================] - 1s 22us/step - loss: 0.0409 - acc: 0.7720 - val_loss: 0.0401 - val_acc: 0.7806\n",
            "Epoch 130/200\n",
            "60000/60000 [==============================] - 1s 22us/step - loss: 0.0407 - acc: 0.7731 - val_loss: 0.0398 - val_acc: 0.7812\n",
            "Epoch 131/200\n",
            "60000/60000 [==============================] - 1s 22us/step - loss: 0.0405 - acc: 0.7741 - val_loss: 0.0396 - val_acc: 0.7821\n",
            "Epoch 132/200\n",
            "60000/60000 [==============================] - 1s 23us/step - loss: 0.0403 - acc: 0.7749 - val_loss: 0.0394 - val_acc: 0.7835\n",
            "Epoch 133/200\n",
            "60000/60000 [==============================] - 1s 22us/step - loss: 0.0400 - acc: 0.7758 - val_loss: 0.0392 - val_acc: 0.7840\n",
            "Epoch 134/200\n",
            "60000/60000 [==============================] - 1s 22us/step - loss: 0.0398 - acc: 0.7767 - val_loss: 0.0390 - val_acc: 0.7851\n",
            "Epoch 135/200\n",
            "60000/60000 [==============================] - 1s 22us/step - loss: 0.0396 - acc: 0.7781 - val_loss: 0.0387 - val_acc: 0.7864\n",
            "Epoch 136/200\n",
            "60000/60000 [==============================] - 1s 22us/step - loss: 0.0394 - acc: 0.7789 - val_loss: 0.0385 - val_acc: 0.7878\n",
            "Epoch 137/200\n",
            "60000/60000 [==============================] - 1s 22us/step - loss: 0.0392 - acc: 0.7799 - val_loss: 0.0383 - val_acc: 0.7884\n",
            "Epoch 138/200\n",
            "60000/60000 [==============================] - 1s 22us/step - loss: 0.0390 - acc: 0.7811 - val_loss: 0.0381 - val_acc: 0.7895\n",
            "Epoch 139/200\n",
            "60000/60000 [==============================] - 1s 22us/step - loss: 0.0388 - acc: 0.7823 - val_loss: 0.0379 - val_acc: 0.7905\n",
            "Epoch 140/200\n",
            "60000/60000 [==============================] - 1s 23us/step - loss: 0.0386 - acc: 0.7834 - val_loss: 0.0377 - val_acc: 0.7914\n",
            "Epoch 141/200\n",
            "60000/60000 [==============================] - 1s 24us/step - loss: 0.0384 - acc: 0.7850 - val_loss: 0.0375 - val_acc: 0.7933\n",
            "Epoch 142/200\n",
            "60000/60000 [==============================] - 1s 24us/step - loss: 0.0382 - acc: 0.7866 - val_loss: 0.0373 - val_acc: 0.7944\n",
            "Epoch 143/200\n",
            "60000/60000 [==============================] - 1s 24us/step - loss: 0.0380 - acc: 0.7879 - val_loss: 0.0371 - val_acc: 0.7957\n",
            "Epoch 144/200\n",
            "60000/60000 [==============================] - 1s 23us/step - loss: 0.0378 - acc: 0.7893 - val_loss: 0.0369 - val_acc: 0.7969\n",
            "Epoch 145/200\n",
            "60000/60000 [==============================] - 1s 22us/step - loss: 0.0376 - acc: 0.7909 - val_loss: 0.0367 - val_acc: 0.7986\n",
            "Epoch 146/200\n",
            "60000/60000 [==============================] - 1s 22us/step - loss: 0.0374 - acc: 0.7924 - val_loss: 0.0365 - val_acc: 0.8000\n",
            "Epoch 147/200\n",
            "60000/60000 [==============================] - 1s 22us/step - loss: 0.0372 - acc: 0.7939 - val_loss: 0.0363 - val_acc: 0.8016\n",
            "Epoch 148/200\n",
            "60000/60000 [==============================] - 1s 22us/step - loss: 0.0370 - acc: 0.7955 - val_loss: 0.0361 - val_acc: 0.8039\n",
            "Epoch 149/200\n",
            "60000/60000 [==============================] - 1s 22us/step - loss: 0.0368 - acc: 0.7970 - val_loss: 0.0359 - val_acc: 0.8056\n",
            "Epoch 150/200\n",
            "60000/60000 [==============================] - 1s 22us/step - loss: 0.0367 - acc: 0.7987 - val_loss: 0.0357 - val_acc: 0.8076\n",
            "Epoch 151/200\n",
            "60000/60000 [==============================] - 1s 22us/step - loss: 0.0365 - acc: 0.8003 - val_loss: 0.0355 - val_acc: 0.8088\n",
            "Epoch 152/200\n",
            "60000/60000 [==============================] - 1s 22us/step - loss: 0.0363 - acc: 0.8018 - val_loss: 0.0354 - val_acc: 0.8106\n",
            "Epoch 153/200\n",
            "60000/60000 [==============================] - 1s 22us/step - loss: 0.0361 - acc: 0.8036 - val_loss: 0.0352 - val_acc: 0.8117\n",
            "Epoch 154/200\n",
            "60000/60000 [==============================] - 1s 22us/step - loss: 0.0359 - acc: 0.8053 - val_loss: 0.0350 - val_acc: 0.8129\n",
            "Epoch 155/200\n",
            "60000/60000 [==============================] - 1s 22us/step - loss: 0.0357 - acc: 0.8069 - val_loss: 0.0348 - val_acc: 0.8146\n",
            "Epoch 156/200\n",
            "60000/60000 [==============================] - 1s 21us/step - loss: 0.0356 - acc: 0.8082 - val_loss: 0.0346 - val_acc: 0.8160\n",
            "Epoch 157/200\n",
            "60000/60000 [==============================] - 1s 22us/step - loss: 0.0354 - acc: 0.8098 - val_loss: 0.0344 - val_acc: 0.8181\n",
            "Epoch 158/200\n",
            "60000/60000 [==============================] - 1s 21us/step - loss: 0.0352 - acc: 0.8113 - val_loss: 0.0343 - val_acc: 0.8201\n",
            "Epoch 159/200\n",
            "60000/60000 [==============================] - 1s 22us/step - loss: 0.0350 - acc: 0.8126 - val_loss: 0.0341 - val_acc: 0.8219\n",
            "Epoch 160/200\n",
            "60000/60000 [==============================] - 1s 22us/step - loss: 0.0349 - acc: 0.8143 - val_loss: 0.0339 - val_acc: 0.8223\n",
            "Epoch 161/200\n",
            "60000/60000 [==============================] - 1s 22us/step - loss: 0.0347 - acc: 0.8156 - val_loss: 0.0337 - val_acc: 0.8244\n",
            "Epoch 162/200\n",
            "60000/60000 [==============================] - 1s 22us/step - loss: 0.0345 - acc: 0.8169 - val_loss: 0.0336 - val_acc: 0.8261\n",
            "Epoch 163/200\n",
            "60000/60000 [==============================] - 1s 22us/step - loss: 0.0344 - acc: 0.8187 - val_loss: 0.0334 - val_acc: 0.8282\n",
            "Epoch 164/200\n",
            "60000/60000 [==============================] - 1s 22us/step - loss: 0.0342 - acc: 0.8201 - val_loss: 0.0332 - val_acc: 0.8295\n",
            "Epoch 165/200\n",
            "60000/60000 [==============================] - 1s 21us/step - loss: 0.0340 - acc: 0.8215 - val_loss: 0.0331 - val_acc: 0.8313\n",
            "Epoch 166/200\n",
            "60000/60000 [==============================] - 1s 22us/step - loss: 0.0339 - acc: 0.8233 - val_loss: 0.0329 - val_acc: 0.8329\n",
            "Epoch 167/200\n",
            "60000/60000 [==============================] - 1s 22us/step - loss: 0.0337 - acc: 0.8242 - val_loss: 0.0327 - val_acc: 0.8335\n",
            "Epoch 168/200\n",
            "60000/60000 [==============================] - 1s 22us/step - loss: 0.0335 - acc: 0.8255 - val_loss: 0.0326 - val_acc: 0.8352\n",
            "Epoch 169/200\n",
            "60000/60000 [==============================] - 1s 22us/step - loss: 0.0334 - acc: 0.8267 - val_loss: 0.0324 - val_acc: 0.8360\n",
            "Epoch 170/200\n",
            "60000/60000 [==============================] - 1s 22us/step - loss: 0.0332 - acc: 0.8279 - val_loss: 0.0322 - val_acc: 0.8370\n",
            "Epoch 171/200\n",
            "60000/60000 [==============================] - 1s 21us/step - loss: 0.0331 - acc: 0.8288 - val_loss: 0.0321 - val_acc: 0.8380\n",
            "Epoch 172/200\n",
            "60000/60000 [==============================] - 1s 22us/step - loss: 0.0329 - acc: 0.8301 - val_loss: 0.0319 - val_acc: 0.8392\n",
            "Epoch 173/200\n",
            "60000/60000 [==============================] - 1s 22us/step - loss: 0.0327 - acc: 0.8309 - val_loss: 0.0318 - val_acc: 0.8401\n",
            "Epoch 174/200\n",
            "60000/60000 [==============================] - 1s 21us/step - loss: 0.0326 - acc: 0.8324 - val_loss: 0.0316 - val_acc: 0.8410\n",
            "Epoch 175/200\n",
            "60000/60000 [==============================] - 1s 22us/step - loss: 0.0324 - acc: 0.8330 - val_loss: 0.0315 - val_acc: 0.8423\n",
            "Epoch 176/200\n",
            "60000/60000 [==============================] - 1s 23us/step - loss: 0.0323 - acc: 0.8343 - val_loss: 0.0313 - val_acc: 0.8435\n",
            "Epoch 177/200\n",
            "60000/60000 [==============================] - 1s 22us/step - loss: 0.0321 - acc: 0.8350 - val_loss: 0.0312 - val_acc: 0.8446\n",
            "Epoch 178/200\n",
            "60000/60000 [==============================] - 1s 22us/step - loss: 0.0320 - acc: 0.8358 - val_loss: 0.0310 - val_acc: 0.8452\n",
            "Epoch 179/200\n",
            "60000/60000 [==============================] - 1s 22us/step - loss: 0.0318 - acc: 0.8369 - val_loss: 0.0309 - val_acc: 0.8456\n",
            "Epoch 180/200\n",
            "60000/60000 [==============================] - 1s 21us/step - loss: 0.0317 - acc: 0.8377 - val_loss: 0.0307 - val_acc: 0.8468\n",
            "Epoch 181/200\n",
            "60000/60000 [==============================] - 1s 22us/step - loss: 0.0316 - acc: 0.8387 - val_loss: 0.0306 - val_acc: 0.8481\n",
            "Epoch 182/200\n",
            "60000/60000 [==============================] - 1s 22us/step - loss: 0.0314 - acc: 0.8397 - val_loss: 0.0304 - val_acc: 0.8483\n",
            "Epoch 183/200\n",
            "60000/60000 [==============================] - 1s 22us/step - loss: 0.0313 - acc: 0.8407 - val_loss: 0.0303 - val_acc: 0.8492\n",
            "Epoch 184/200\n",
            "60000/60000 [==============================] - 1s 22us/step - loss: 0.0311 - acc: 0.8414 - val_loss: 0.0301 - val_acc: 0.8495\n",
            "Epoch 185/200\n",
            "60000/60000 [==============================] - 1s 22us/step - loss: 0.0310 - acc: 0.8424 - val_loss: 0.0300 - val_acc: 0.8507\n",
            "Epoch 186/200\n",
            "60000/60000 [==============================] - 1s 22us/step - loss: 0.0308 - acc: 0.8430 - val_loss: 0.0299 - val_acc: 0.8518\n",
            "Epoch 187/200\n",
            "60000/60000 [==============================] - 1s 22us/step - loss: 0.0307 - acc: 0.8441 - val_loss: 0.0297 - val_acc: 0.8526\n",
            "Epoch 188/200\n",
            "60000/60000 [==============================] - 1s 22us/step - loss: 0.0306 - acc: 0.8448 - val_loss: 0.0296 - val_acc: 0.8532\n",
            "Epoch 189/200\n",
            "60000/60000 [==============================] - 1s 22us/step - loss: 0.0304 - acc: 0.8456 - val_loss: 0.0295 - val_acc: 0.8540\n",
            "Epoch 190/200\n",
            "60000/60000 [==============================] - 1s 22us/step - loss: 0.0303 - acc: 0.8461 - val_loss: 0.0293 - val_acc: 0.8548\n",
            "Epoch 191/200\n",
            "60000/60000 [==============================] - 1s 22us/step - loss: 0.0302 - acc: 0.8468 - val_loss: 0.0292 - val_acc: 0.8553\n",
            "Epoch 192/200\n",
            "60000/60000 [==============================] - 1s 21us/step - loss: 0.0301 - acc: 0.8479 - val_loss: 0.0291 - val_acc: 0.8560\n",
            "Epoch 193/200\n",
            "60000/60000 [==============================] - 1s 22us/step - loss: 0.0299 - acc: 0.8484 - val_loss: 0.0289 - val_acc: 0.8571\n",
            "Epoch 194/200\n",
            "60000/60000 [==============================] - 1s 22us/step - loss: 0.0298 - acc: 0.8488 - val_loss: 0.0288 - val_acc: 0.8579\n",
            "Epoch 195/200\n",
            "60000/60000 [==============================] - 1s 21us/step - loss: 0.0297 - acc: 0.8491 - val_loss: 0.0287 - val_acc: 0.8584\n",
            "Epoch 196/200\n",
            "60000/60000 [==============================] - 1s 22us/step - loss: 0.0295 - acc: 0.8497 - val_loss: 0.0286 - val_acc: 0.8597\n",
            "Epoch 197/200\n",
            "60000/60000 [==============================] - 1s 21us/step - loss: 0.0294 - acc: 0.8503 - val_loss: 0.0284 - val_acc: 0.8603\n",
            "Epoch 198/200\n",
            "60000/60000 [==============================] - 1s 21us/step - loss: 0.0293 - acc: 0.8510 - val_loss: 0.0283 - val_acc: 0.8606\n",
            "Epoch 199/200\n",
            "60000/60000 [==============================] - 1s 22us/step - loss: 0.0292 - acc: 0.8517 - val_loss: 0.0282 - val_acc: 0.8611\n",
            "Epoch 200/200\n",
            "60000/60000 [==============================] - 1s 22us/step - loss: 0.0291 - acc: 0.8523 - val_loss: 0.0281 - val_acc: 0.8612\n"
          ],
          "name": "stdout"
        },
        {
          "output_type": "execute_result",
          "data": {
            "text/plain": [
              "<keras.callbacks.History at 0x7f678f5ff780>"
            ]
          },
          "metadata": {
            "tags": []
          },
          "execution_count": 23
        }
      ]
    },
    {
      "cell_type": "code",
      "metadata": {
        "id": "_IjNtIcd63zZ",
        "colab_type": "code",
        "outputId": "38591471-acd3-4914-93ce-1e84b4b4903b",
        "colab": {
          "base_uri": "https://localhost:8080/",
          "height": 51
        }
      },
      "source": [
        "model.evaluate(X_valid, y_valid)"
      ],
      "execution_count": 0,
      "outputs": [
        {
          "output_type": "stream",
          "text": [
            "10000/10000 [==============================] - 0s 24us/step\n"
          ],
          "name": "stdout"
        },
        {
          "output_type": "execute_result",
          "data": {
            "text/plain": [
              "[0.0280658526301384, 0.8612]"
            ]
          },
          "metadata": {
            "tags": []
          },
          "execution_count": 24
        }
      ]
    },
    {
      "cell_type": "code",
      "metadata": {
        "id": "srHCkIrR9URU",
        "colab_type": "code",
        "colab": {}
      },
      "source": [
        ""
      ],
      "execution_count": 0,
      "outputs": []
    }
  ]
}