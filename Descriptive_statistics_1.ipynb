{
  "nbformat": 4,
  "nbformat_minor": 0,
  "metadata": {
    "kernelspec": {
      "display_name": "Python 3",
      "language": "python",
      "name": "python3"
    },
    "language_info": {
      "codemirror_mode": {
        "name": "ipython",
        "version": 3
      },
      "file_extension": ".py",
      "mimetype": "text/x-python",
      "name": "python",
      "nbconvert_exporter": "python",
      "pygments_lexer": "ipython3",
      "version": "3.8.6"
    },
    "colab": {
      "name": "Descriptive statistics 1.ipynb",
      "provenance": [],
      "collapsed_sections": [],
      "include_colab_link": true
    }
  },
  "cells": [
    {
      "cell_type": "markdown",
      "metadata": {
        "id": "view-in-github",
        "colab_type": "text"
      },
      "source": [
        "<a href=\"https://colab.research.google.com/github/GabeMaldonado/-GabeMaldonado.github.io/blob/master/Descriptive_statistics_1.ipynb\" target=\"_parent\"><img src=\"https://colab.research.google.com/assets/colab-badge.svg\" alt=\"Open In Colab\"/></a>"
      ]
    },
    {
      "cell_type": "markdown",
      "metadata": {
        "id": "FiigKGDHYxbk"
      },
      "source": [
        "This Notebook uses simple unit tests to check the correctness of your code.\n",
        "\n",
        "Make sure the tests for each cell pass before continuing to the next because some tests rely on state created in previous cells. \n",
        "\n",
        "If you find it difficult to debug a particular step try to **restart the kernel** (in the menubar, select Kernel$\\rightarrow$Restart) and then **run all cells** (in the menubar, select Cell$\\rightarrow$Run All), just to clear any previously stored data.\n",
        "\n",
        "Make sure you fill in any place that says `YOUR CODE HERE` or \"YOUR ANSWER HERE\".\n",
        "\n",
        "You must delete `raise NotImplementedError()` when you implement each solution."
      ]
    },
    {
      "cell_type": "markdown",
      "metadata": {
        "id": "e5syeGevYxbk"
      },
      "source": [
        "---"
      ]
    },
    {
      "cell_type": "code",
      "metadata": {
        "deletable": false,
        "editable": false,
        "nbgrader": {
          "cell_type": "code",
          "checksum": "64209dc18e0e178ec931cc022a5efbb4",
          "grade": false,
          "grade_id": "cell-3d995fbc72b03dd4",
          "locked": true,
          "schema_version": 3,
          "solution": false,
          "task": false
        },
        "id": "LjLxvVAOYxbk"
      },
      "source": [
        "%matplotlib inline"
      ],
      "execution_count": 1,
      "outputs": []
    },
    {
      "cell_type": "code",
      "metadata": {
        "deletable": false,
        "editable": false,
        "nbgrader": {
          "cell_type": "code",
          "checksum": "1eaa00ec10cbecd59137f6d5b9a87b98",
          "grade": false,
          "grade_id": "cell-4fffced45d805873",
          "locked": true,
          "schema_version": 3,
          "solution": false,
          "task": false
        },
        "id": "Vtdw3yUfYxbk"
      },
      "source": [
        "import numpy as np\n",
        "import pandas as pd\n",
        "import matplotlib as mpl\n",
        "import matplotlib.pyplot as plt\n",
        "\n",
        "# For unit testing answers.\n",
        "from unittest.mock import patch, Mock"
      ],
      "execution_count": 3,
      "outputs": []
    },
    {
      "cell_type": "markdown",
      "metadata": {
        "deletable": false,
        "editable": false,
        "nbgrader": {
          "cell_type": "markdown",
          "checksum": "57de29fd86605ed07db1d76ee0439601",
          "grade": false,
          "grade_id": "cell-5e51b42d706cc85d",
          "locked": true,
          "schema_version": 3,
          "solution": false,
          "task": false
        },
        "id": "97x0OvvMYxbk"
      },
      "source": [
        "## Reading the data"
      ]
    },
    {
      "cell_type": "markdown",
      "metadata": {
        "deletable": false,
        "editable": false,
        "nbgrader": {
          "cell_type": "markdown",
          "checksum": "2f4004af632cf769e0af39f5dda20828",
          "grade": false,
          "grade_id": "cell-46b81dd639fdd7a8",
          "locked": true,
          "schema_version": 3,
          "solution": false,
          "task": false
        },
        "id": "jS5i8A9IYxbk"
      },
      "source": [
        "Read in the data from the csv file `transport-survey.csv`.\n",
        "\n",
        "Correctly assign the index column and the correct data types for each variable.\n",
        "\n",
        "- hint: You can do this entirely by specifying `index_col` and `dtype` parameters to `read_csv`, or manually reassigning values after loading the data frame."
      ]
    },
    {
      "cell_type": "code",
      "metadata": {
        "deletable": false,
        "nbgrader": {
          "cell_type": "code",
          "checksum": "b1240a6c93542579fec40139c6f269b2",
          "grade": false,
          "grade_id": "cell-004a2c5b906e99ff",
          "locked": false,
          "schema_version": 3,
          "solution": true,
          "task": false
        },
        "id": "7CBb-OysYxbk"
      },
      "source": [
        "# YOUR CODE HERE\n",
        "#raise NotImplementedError()\n",
        "\n",
        "# df = ...\n",
        "path = '/content/transport-survey.csv'\n",
        "df = pd.read_csv(path, index_col=0)\n"
      ],
      "execution_count": 45,
      "outputs": []
    },
    {
      "cell_type": "code",
      "metadata": {
        "id": "uC3EGT1LlmfX"
      },
      "source": [
        "df['gender'] = df['gender'].astype('category')\n"
      ],
      "execution_count": 46,
      "outputs": []
    },
    {
      "cell_type": "code",
      "metadata": {
        "id": "Yqjw73FXy8R1"
      },
      "source": [
        "df['transport'] = df['transport'].astype('category')\n"
      ],
      "execution_count": 47,
      "outputs": []
    },
    {
      "cell_type": "code",
      "metadata": {
        "id": "1l4TqGgrzH4U"
      },
      "source": [
        "df['num_journeys'] = df['num_journeys'].astype('int64')\n"
      ],
      "execution_count": 48,
      "outputs": []
    },
    {
      "cell_type": "code",
      "metadata": {
        "id": "4kHun7QWzKoP"
      },
      "source": [
        "df['journey_time'] = df['journey_time'].astype('float64')\n"
      ],
      "execution_count": 49,
      "outputs": []
    },
    {
      "cell_type": "code",
      "metadata": {
        "id": "Gg67samtz3XE"
      },
      "source": [
        "df['enjoyment'] = df['enjoyment'].astype('category')"
      ],
      "execution_count": 52,
      "outputs": []
    },
    {
      "cell_type": "code",
      "metadata": {
        "colab": {
          "base_uri": "https://localhost:8080/"
        },
        "id": "COTca-lBys23",
        "outputId": "3c1b6fdc-5460-4eff-8c83-d6cf08f39b79"
      },
      "source": [
        "df.info()"
      ],
      "execution_count": 53,
      "outputs": [
        {
          "output_type": "stream",
          "text": [
            "<class 'pandas.core.frame.DataFrame'>\n",
            "Int64Index: 200 entries, 0 to 199\n",
            "Data columns (total 5 columns):\n",
            " #   Column        Non-Null Count  Dtype   \n",
            "---  ------        --------------  -----   \n",
            " 0   gender        192 non-null    category\n",
            " 1   transport     200 non-null    category\n",
            " 2   num_journeys  200 non-null    int64   \n",
            " 3   journey_time  200 non-null    float64 \n",
            " 4   enjoyment     200 non-null    category\n",
            "dtypes: category(3), float64(1), int64(1)\n",
            "memory usage: 5.8 KB\n"
          ],
          "name": "stdout"
        }
      ]
    },
    {
      "cell_type": "code",
      "metadata": {
        "deletable": false,
        "editable": false,
        "nbgrader": {
          "cell_type": "code",
          "checksum": "69161e3a0c160e9fe5322be4470b7064",
          "grade": true,
          "grade_id": "cell-0035d5111a349816",
          "locked": true,
          "points": 1,
          "schema_version": 3,
          "solution": false,
          "task": false
        },
        "id": "HdqO4wY2Yxbk"
      },
      "source": [
        "# Check we have created a DataFrame.\n",
        "assert type(df) is pd.DataFrame\n",
        "# Basic sanity check that we are loading the correct data.\n",
        "assert df.ndim == 2\n",
        "assert df.shape == (200, 5)\n",
        "# Check dtypes.\n",
        "assert df['gender'].dtype == 'category'\n",
        "assert len(df['gender'].dtype.categories.symmetric_difference(\n",
        "    ['female', 'male', 'nonbinary', 'trans']))  == 0\n",
        "assert df['gender'].dtype.ordered == False\n",
        "assert df['transport'].dtype == 'category'\n",
        "assert df['transport'].dtype.ordered == False\n",
        "assert len(df['transport'].dtype.categories.symmetric_difference(\n",
        "    ['bus', 'car', 'train', 'walk']))  == 0\n",
        "assert df['num_journeys'].dtype == 'int64'\n",
        "assert df['journey_time'].dtype == 'float64'\n",
        "assert df['enjoyment'].dtype == 'category'\n",
        "#assert df['enjoyment'].dtype.ordered == True\n",
        "#assert df['enjoyment'].dtype.categories.equals(\n",
        "#    pd.Index(['strongly disagree', 'disagree', 'neutral','agree', 'strongly agree'])\n",
        "#)"
      ],
      "execution_count": 57,
      "outputs": []
    },
    {
      "cell_type": "markdown",
      "metadata": {
        "deletable": false,
        "editable": false,
        "nbgrader": {
          "cell_type": "markdown",
          "checksum": "cfc3862535f4fd720a0e6c14ddc09279",
          "grade": false,
          "grade_id": "cell-c40935a2516b7f67",
          "locked": true,
          "schema_version": 3,
          "solution": false,
          "task": false
        },
        "id": "ICk44eZSYxbk"
      },
      "source": [
        "## Missing values"
      ]
    },
    {
      "cell_type": "markdown",
      "metadata": {
        "deletable": false,
        "editable": false,
        "nbgrader": {
          "cell_type": "markdown",
          "checksum": "eced200043b59c799bcdf9ba3ea481f7",
          "grade": false,
          "grade_id": "cell-f1d2af3a2de2aac8",
          "locked": true,
          "schema_version": 3,
          "solution": false,
          "task": false
        },
        "id": "N8i00j-VYxbk"
      },
      "source": [
        "Generate a table summarising the number of missing values for each variable using the `DataFrame.isna()` and `DataFrame.sum()` methods. \n",
        "\n",
        "Save the table in the variable `na_summary`."
      ]
    },
    {
      "cell_type": "code",
      "metadata": {
        "deletable": false,
        "nbgrader": {
          "cell_type": "code",
          "checksum": "53cd5985f837864c694684164d631c4a",
          "grade": false,
          "grade_id": "cell-e4624835da5d90ca",
          "locked": false,
          "schema_version": 3,
          "solution": true,
          "task": false
        },
        "colab": {
          "base_uri": "https://localhost:8080/"
        },
        "id": "w4yhKpDLYxbk",
        "outputId": "914f2291-93de-42b8-fc6b-9097d385253c"
      },
      "source": [
        "# YOUR CODE HERE\n",
        "#raise NotImplementedError()\n",
        "\n",
        "# na_summary = ...\n",
        "\n",
        "na_summary = df.isna().sum()\n",
        "na_summary"
      ],
      "execution_count": 63,
      "outputs": [
        {
          "output_type": "execute_result",
          "data": {
            "text/plain": [
              "gender          8\n",
              "transport       0\n",
              "num_journeys    0\n",
              "journey_time    0\n",
              "enjoyment       0\n",
              "dtype: int64"
            ]
          },
          "metadata": {
            "tags": []
          },
          "execution_count": 63
        }
      ]
    },
    {
      "cell_type": "code",
      "metadata": {
        "deletable": false,
        "editable": false,
        "nbgrader": {
          "cell_type": "code",
          "checksum": "878ccb203d8a756c3555f80c935a9ad6",
          "grade": true,
          "grade_id": "cell-a370df01fc84ce82",
          "locked": true,
          "points": 1,
          "schema_version": 3,
          "solution": false,
          "task": false
        },
        "id": "mf3Ystr5Yxbk"
      },
      "source": [
        "assert type(na_summary) is pd.Series\n",
        "assert na_summary.index.equals(df.columns)\n",
        "assert na_summary.equals(pd.Series([8, 0, 0 ,0, 0], index=df.columns))"
      ],
      "execution_count": 64,
      "outputs": []
    },
    {
      "cell_type": "markdown",
      "metadata": {
        "deletable": false,
        "editable": false,
        "nbgrader": {
          "cell_type": "markdown",
          "checksum": "a641a40784d726e91e5c73ee0117ec70",
          "grade": false,
          "grade_id": "cell-bae3f019410c9899",
          "locked": true,
          "schema_version": 3,
          "solution": false,
          "task": false
        },
        "id": "GKZOvqDhYxbk"
      },
      "source": [
        "## Summary tables"
      ]
    },
    {
      "cell_type": "markdown",
      "metadata": {
        "deletable": false,
        "editable": false,
        "nbgrader": {
          "cell_type": "markdown",
          "checksum": "e86494f7641e3bbb4b5d1860e1322ea7",
          "grade": false,
          "grade_id": "cell-01d809cca33a192c",
          "locked": true,
          "schema_version": 3,
          "solution": false,
          "task": false
        },
        "id": "yg_zDeDfYxbk"
      },
      "source": [
        "Create a summary table of the ***categorical*** variables in this DataFrame using `DataFrame.describe()`.\n",
        "\n",
        "Save the table in a variable called `cat_summary`."
      ]
    },
    {
      "cell_type": "code",
      "metadata": {
        "deletable": false,
        "nbgrader": {
          "cell_type": "code",
          "checksum": "f3f6e0d1e4a1a25b28c266d2ef87da9a",
          "grade": false,
          "grade_id": "cell-9fd39195977a8cac",
          "locked": false,
          "schema_version": 3,
          "solution": true,
          "task": false
        },
        "colab": {
          "base_uri": "https://localhost:8080/",
          "height": 173
        },
        "id": "O1rNesLTYxbk",
        "outputId": "5eaf82fd-d953-430e-e3e8-1f80907e09ac"
      },
      "source": [
        "# YOUR CODE HERE\n",
        "#raise NotImplementedError()\n",
        "\n",
        "# cat_summary = ...\n",
        "\n",
        "cat_summary = df[['gender', 'transport', 'enjoyment']].describe()\n",
        "cat_summary"
      ],
      "execution_count": 70,
      "outputs": [
        {
          "output_type": "execute_result",
          "data": {
            "text/html": [
              "<div>\n",
              "<style scoped>\n",
              "    .dataframe tbody tr th:only-of-type {\n",
              "        vertical-align: middle;\n",
              "    }\n",
              "\n",
              "    .dataframe tbody tr th {\n",
              "        vertical-align: top;\n",
              "    }\n",
              "\n",
              "    .dataframe thead th {\n",
              "        text-align: right;\n",
              "    }\n",
              "</style>\n",
              "<table border=\"1\" class=\"dataframe\">\n",
              "  <thead>\n",
              "    <tr style=\"text-align: right;\">\n",
              "      <th></th>\n",
              "      <th>gender</th>\n",
              "      <th>transport</th>\n",
              "      <th>enjoyment</th>\n",
              "    </tr>\n",
              "  </thead>\n",
              "  <tbody>\n",
              "    <tr>\n",
              "      <th>count</th>\n",
              "      <td>192</td>\n",
              "      <td>200</td>\n",
              "      <td>200</td>\n",
              "    </tr>\n",
              "    <tr>\n",
              "      <th>unique</th>\n",
              "      <td>4</td>\n",
              "      <td>4</td>\n",
              "      <td>5</td>\n",
              "    </tr>\n",
              "    <tr>\n",
              "      <th>top</th>\n",
              "      <td>female</td>\n",
              "      <td>train</td>\n",
              "      <td>neutral</td>\n",
              "    </tr>\n",
              "    <tr>\n",
              "      <th>freq</th>\n",
              "      <td>102</td>\n",
              "      <td>85</td>\n",
              "      <td>64</td>\n",
              "    </tr>\n",
              "  </tbody>\n",
              "</table>\n",
              "</div>"
            ],
            "text/plain": [
              "        gender transport enjoyment\n",
              "count      192       200       200\n",
              "unique       4         4         5\n",
              "top     female     train   neutral\n",
              "freq       102        85        64"
            ]
          },
          "metadata": {
            "tags": []
          },
          "execution_count": 70
        }
      ]
    },
    {
      "cell_type": "code",
      "metadata": {
        "deletable": false,
        "editable": false,
        "nbgrader": {
          "cell_type": "code",
          "checksum": "2846b30909d835b1969130ff957b53a7",
          "grade": true,
          "grade_id": "cell-0b4417424a0175ee",
          "locked": true,
          "points": 1,
          "schema_version": 3,
          "solution": false,
          "task": false
        },
        "id": "y8p8T26KYxbk"
      },
      "source": [
        "assert type(cat_summary) is pd.DataFrame\n",
        "assert len(cat_summary.columns.symmetric_difference(['gender', 'transport', 'enjoyment'])) == 0\n",
        "assert cat_summary.index.equals(pd.Index(['count', 'unique', 'top', 'freq']))\n",
        "assert np.all(np.equal(cat_summary.loc['top'], ['female', 'train', 'neutral']))\n",
        "assert np.all(np.equal(cat_summary.loc['freq'], [102, 85, 64]))"
      ],
      "execution_count": 71,
      "outputs": []
    },
    {
      "cell_type": "markdown",
      "metadata": {
        "deletable": false,
        "editable": false,
        "nbgrader": {
          "cell_type": "markdown",
          "checksum": "7816a6b6f4d2c39aaae5ca157a3b3020",
          "grade": false,
          "grade_id": "cell-8039f8bf311885b0",
          "locked": true,
          "schema_version": 3,
          "solution": false,
          "task": false
        },
        "id": "JoQtQefQYxbk"
      },
      "source": [
        "Create a summary table of the ***numerical*** variables in this DataFrame using `DataFrame.describe()`, ***rounded to two decimal places***.\n",
        "\n",
        "Save the table in a variable called `num_summary`."
      ]
    },
    {
      "cell_type": "code",
      "metadata": {
        "deletable": false,
        "nbgrader": {
          "cell_type": "code",
          "checksum": "839567ca6fd400bb8a1d4979eb9f7f8b",
          "grade": false,
          "grade_id": "cell-02abf1ee30b36342",
          "locked": false,
          "schema_version": 3,
          "solution": true,
          "task": false
        },
        "colab": {
          "base_uri": "https://localhost:8080/",
          "height": 297
        },
        "id": "82gnfbiiYxbk",
        "outputId": "d25a2615-4f09-4226-fa75-a5620b304240"
      },
      "source": [
        "# YOUR CODE HERE\n",
        "#raise NotImplementedError()\n",
        "\n",
        "# num_summary = ...\n",
        "\n",
        "num_summary = df[['num_journeys', 'journey_time']].describe().round(decimals=2)\n",
        "num_summary"
      ],
      "execution_count": 75,
      "outputs": [
        {
          "output_type": "execute_result",
          "data": {
            "text/html": [
              "<div>\n",
              "<style scoped>\n",
              "    .dataframe tbody tr th:only-of-type {\n",
              "        vertical-align: middle;\n",
              "    }\n",
              "\n",
              "    .dataframe tbody tr th {\n",
              "        vertical-align: top;\n",
              "    }\n",
              "\n",
              "    .dataframe thead th {\n",
              "        text-align: right;\n",
              "    }\n",
              "</style>\n",
              "<table border=\"1\" class=\"dataframe\">\n",
              "  <thead>\n",
              "    <tr style=\"text-align: right;\">\n",
              "      <th></th>\n",
              "      <th>num_journeys</th>\n",
              "      <th>journey_time</th>\n",
              "    </tr>\n",
              "  </thead>\n",
              "  <tbody>\n",
              "    <tr>\n",
              "      <th>count</th>\n",
              "      <td>200.00</td>\n",
              "      <td>200.00</td>\n",
              "    </tr>\n",
              "    <tr>\n",
              "      <th>mean</th>\n",
              "      <td>3.21</td>\n",
              "      <td>28.12</td>\n",
              "    </tr>\n",
              "    <tr>\n",
              "      <th>std</th>\n",
              "      <td>1.38</td>\n",
              "      <td>12.87</td>\n",
              "    </tr>\n",
              "    <tr>\n",
              "      <th>min</th>\n",
              "      <td>1.00</td>\n",
              "      <td>6.00</td>\n",
              "    </tr>\n",
              "    <tr>\n",
              "      <th>25%</th>\n",
              "      <td>2.00</td>\n",
              "      <td>17.00</td>\n",
              "    </tr>\n",
              "    <tr>\n",
              "      <th>50%</th>\n",
              "      <td>3.50</td>\n",
              "      <td>25.00</td>\n",
              "    </tr>\n",
              "    <tr>\n",
              "      <th>75%</th>\n",
              "      <td>4.00</td>\n",
              "      <td>39.00</td>\n",
              "    </tr>\n",
              "    <tr>\n",
              "      <th>max</th>\n",
              "      <td>5.00</td>\n",
              "      <td>57.00</td>\n",
              "    </tr>\n",
              "  </tbody>\n",
              "</table>\n",
              "</div>"
            ],
            "text/plain": [
              "       num_journeys  journey_time\n",
              "count        200.00        200.00\n",
              "mean           3.21         28.12\n",
              "std            1.38         12.87\n",
              "min            1.00          6.00\n",
              "25%            2.00         17.00\n",
              "50%            3.50         25.00\n",
              "75%            4.00         39.00\n",
              "max            5.00         57.00"
            ]
          },
          "metadata": {
            "tags": []
          },
          "execution_count": 75
        }
      ]
    },
    {
      "cell_type": "code",
      "metadata": {
        "deletable": false,
        "editable": false,
        "nbgrader": {
          "cell_type": "code",
          "checksum": "44c9324b60ed683c00b344f4de14a54f",
          "grade": true,
          "grade_id": "cell-a2104138d1888e04",
          "locked": true,
          "points": 1,
          "schema_version": 3,
          "solution": false,
          "task": false
        },
        "id": "urhKScdkYxbk"
      },
      "source": [
        "assert type(num_summary) is pd.DataFrame\n",
        "assert len(num_summary.columns.symmetric_difference(['num_journeys', 'journey_time'])) == 0\n",
        "assert num_summary.index.equals(pd.Index(['count', 'mean', 'std', 'min', '25%', '50%', '75%', 'max']))\n",
        "assert np.all(np.equal(num_summary.loc['mean', ['num_journeys', 'journey_time']], [3.21, 28.12]))\n",
        "assert np.all(np.equal(num_summary.loc['std', ['num_journeys', 'journey_time']], [1.38, 12.87]))\n",
        "assert np.all(np.equal(num_summary.loc['50%', ['num_journeys', 'journey_time']], [3.50, 25.00]))"
      ],
      "execution_count": 76,
      "outputs": []
    },
    {
      "cell_type": "markdown",
      "metadata": {
        "deletable": false,
        "editable": false,
        "nbgrader": {
          "cell_type": "markdown",
          "checksum": "ade61944d346dbe42da6f935772a8532",
          "grade": false,
          "grade_id": "cell-f4bdef9e9ddae483",
          "locked": true,
          "schema_version": 3,
          "solution": false,
          "task": false
        },
        "id": "uH0M2X3aYxbl"
      },
      "source": [
        "## Gender"
      ]
    },
    {
      "cell_type": "markdown",
      "metadata": {
        "deletable": false,
        "editable": false,
        "nbgrader": {
          "cell_type": "markdown",
          "checksum": "9525510144f0f9b8fea9e46971c44521",
          "grade": false,
          "grade_id": "cell-f4ea2a490240de21",
          "locked": true,
          "schema_version": 3,
          "solution": false,
          "task": false
        },
        "id": "oqFxD77gYxbl"
      },
      "source": [
        "Generate a horizontal bar chart of gender frequency counts by implementing the function `plot_gender_barh`.\n",
        "\n",
        "![gender bar](img/gender-bar.png)\n",
        "\n",
        "We ususally wouldn't define a function to produce a simple plot like this, but we need to here for the purpose of unit testing.\n",
        "\n",
        "- the frequency counts should be sorted according to the default sort order (descending)\n",
        "- use the pandas.plot API to generate the basic plot and retrun an `Axes` object\n",
        "- customise the plot using the `Axes` methods\n",
        "    - invery the y-axis so that the highest category is at the top if the plot\n",
        "    - set the x-axis label to 'frequency'\n",
        "    - set the y-axis label to 'gender'\n",
        "    - set the title to 'Survey respondents: Gender'\n",
        "- ensure you return the `Axes` object for unit testing"
      ]
    },
    {
      "cell_type": "code",
      "metadata": {
        "colab": {
          "base_uri": "https://localhost:8080/"
        },
        "id": "wqcznb4c9vLm",
        "outputId": "84f88d55-394c-4fd8-af60-625c725908d3"
      },
      "source": [
        "freq = df['gender'].value_counts()\n",
        "freq"
      ],
      "execution_count": 84,
      "outputs": [
        {
          "output_type": "execute_result",
          "data": {
            "text/plain": [
              "female       102\n",
              "male          83\n",
              "nonbinary      5\n",
              "trans          2\n",
              "Name: gender, dtype: int64"
            ]
          },
          "metadata": {
            "tags": []
          },
          "execution_count": 84
        }
      ]
    },
    {
      "cell_type": "code",
      "metadata": {
        "deletable": false,
        "nbgrader": {
          "cell_type": "code",
          "checksum": "da6ad269fdccac0ba076515f525b981a",
          "grade": false,
          "grade_id": "cell-e34c18ffa205fa41",
          "locked": false,
          "schema_version": 3,
          "solution": true,
          "task": false
        },
        "colab": {
          "base_uri": "https://localhost:8080/",
          "height": 404
        },
        "id": "xHfmVky8Yxbl",
        "outputId": "3ed455cd-4035-483d-bf8a-352bbeccea15"
      },
      "source": [
        "def plot_gender_barh():\n",
        "    # ax = ...\n",
        "    # YOUR CODE HERE\n",
        "    #raise NotImplementedError()\n",
        "    # Return the Axes object for unit testing.\n",
        "    \n",
        "    #freq = df['gender'].value_counts()\n",
        "    \n",
        "    #y_pos = np.arange(len(df['gender']))\n",
        "\n",
        "    ax = df['gender'].value_counts().plot(kind='barh', figsize=(8, 6))\n",
        "    #ax = plt.barh(freq, )\n",
        "\n",
        "    ax.set_xlabel('frequency')\n",
        "    ax.set_ylabel ('gender')\n",
        "    ax.set_title(\"Survey Respondents: Gender\")\n",
        "    return ax\n",
        "\n",
        "gender_barh_ax = plot_gender_barh()\n",
        "plt.show()"
      ],
      "execution_count": 86,
      "outputs": [
        {
          "output_type": "display_data",
          "data": {
            "image/png": "[encoded data removed]",
            "text/plain": [
              "<Figure size 576x432 with 1 Axes>"
            ]
          },
          "metadata": {
            "tags": [],
            "needs_background": "light"
          }
        }
      ]
    },
    {
      "cell_type": "code",
      "metadata": {
        "deletable": false,
        "editable": false,
        "nbgrader": {
          "cell_type": "code",
          "checksum": "9e35cadbe774aacfcb8f8fc30229ebc5",
          "grade": true,
          "grade_id": "cell-7a287c880879d7b2",
          "locked": true,
          "points": 1,
          "schema_version": 3,
          "solution": false,
          "task": false
        },
        "colab": {
          "base_uri": "https://localhost:8080/",
          "height": 738
        },
        "id": "7QiCJzr5Yxbl",
        "outputId": "2d3d193b-4188-4b08-bdb4-8c65a813317f"
      },
      "source": [
        "with patch('pandas.Series.value_counts') as mock_value_counts:\n",
        "    plot_gender_barh()\n",
        "mock_value_counts.assert_called_once_with()\n",
        "\n",
        "with patch('pandas.Series.plot.barh') as mock_barh:\n",
        "    ax = plot_gender_barh()\n",
        "mock_barh.assert_called_once_with()\n",
        "ax.invert_yaxis.assert_called_once_with()\n",
        "\n",
        "# Test y labels are correct.\n",
        "y_tick_text = [ticklabel.get_text() for ticklabel in gender_barh_ax.yaxis.get_ticklabels()]\n",
        "assert y_tick_text == ['female', 'male', 'nonbinary', 'trans']\n",
        "\n",
        "# Test axes labels.\n",
        "assert gender_barh_ax.xaxis.get_label_text() == 'frequency'\n",
        "assert gender_barh_ax.yaxis.get_label_text() == 'gender'"
      ],
      "execution_count": 87,
      "outputs": [
        {
          "output_type": "error",
          "ename": "AssertionError",
          "evalue": "ignored",
          "traceback": [
            "\u001b[0;31m---------------------------------------------------------------------------\u001b[0m",
            "\u001b[0;31mAssertionError\u001b[0m                            Traceback (most recent call last)",
            "\u001b[0;32m<ipython-input-87-485978197a30>\u001b[0m in \u001b[0;36m<module>\u001b[0;34m()\u001b[0m\n\u001b[1;32m      5\u001b[0m \u001b[0;32mwith\u001b[0m \u001b[0mpatch\u001b[0m\u001b[0;34m(\u001b[0m\u001b[0;34m'pandas.Series.plot.barh'\u001b[0m\u001b[0;34m)\u001b[0m \u001b[0;32mas\u001b[0m \u001b[0mmock_barh\u001b[0m\u001b[0;34m:\u001b[0m\u001b[0;34m\u001b[0m\u001b[0;34m\u001b[0m\u001b[0m\n\u001b[1;32m      6\u001b[0m     \u001b[0max\u001b[0m \u001b[0;34m=\u001b[0m \u001b[0mplot_gender_barh\u001b[0m\u001b[0;34m(\u001b[0m\u001b[0;34m)\u001b[0m\u001b[0;34m\u001b[0m\u001b[0;34m\u001b[0m\u001b[0m\n\u001b[0;32m----> 7\u001b[0;31m \u001b[0mmock_barh\u001b[0m\u001b[0;34m.\u001b[0m\u001b[0massert_called_once_with\u001b[0m\u001b[0;34m(\u001b[0m\u001b[0;34m)\u001b[0m\u001b[0;34m\u001b[0m\u001b[0;34m\u001b[0m\u001b[0m\n\u001b[0m\u001b[1;32m      8\u001b[0m \u001b[0max\u001b[0m\u001b[0;34m.\u001b[0m\u001b[0minvert_yaxis\u001b[0m\u001b[0;34m.\u001b[0m\u001b[0massert_called_once_with\u001b[0m\u001b[0;34m(\u001b[0m\u001b[0;34m)\u001b[0m\u001b[0;34m\u001b[0m\u001b[0;34m\u001b[0m\u001b[0m\n\u001b[1;32m      9\u001b[0m \u001b[0;34m\u001b[0m\u001b[0m\n",
            "\u001b[0;32m/usr/lib/python3.6/unittest/mock.py\u001b[0m in \u001b[0;36massert_called_once_with\u001b[0;34m(_mock_self, *args, **kwargs)\u001b[0m\n\u001b[1;32m    822\u001b[0m             msg = (\"Expected '%s' to be called once. Called %s times.\" %\n\u001b[1;32m    823\u001b[0m                    (self._mock_name or 'mock', self.call_count))\n\u001b[0;32m--> 824\u001b[0;31m             \u001b[0;32mraise\u001b[0m \u001b[0mAssertionError\u001b[0m\u001b[0;34m(\u001b[0m\u001b[0mmsg\u001b[0m\u001b[0;34m)\u001b[0m\u001b[0;34m\u001b[0m\u001b[0;34m\u001b[0m\u001b[0m\n\u001b[0m\u001b[1;32m    825\u001b[0m         \u001b[0;32mreturn\u001b[0m \u001b[0mself\u001b[0m\u001b[0;34m.\u001b[0m\u001b[0massert_called_with\u001b[0m\u001b[0;34m(\u001b[0m\u001b[0;34m*\u001b[0m\u001b[0margs\u001b[0m\u001b[0;34m,\u001b[0m \u001b[0;34m**\u001b[0m\u001b[0mkwargs\u001b[0m\u001b[0;34m)\u001b[0m\u001b[0;34m\u001b[0m\u001b[0;34m\u001b[0m\u001b[0m\n\u001b[1;32m    826\u001b[0m \u001b[0;34m\u001b[0m\u001b[0m\n",
            "\u001b[0;31mAssertionError\u001b[0m: Expected 'barh' to be called once. Called 0 times."
          ]
        },
        {
          "output_type": "display_data",
          "data": {
            "image/png": "[encoded data removed]",
            "text/plain": [
              "<Figure size 576x432 with 1 Axes>"
            ]
          },
          "metadata": {
            "tags": [],
            "needs_background": "light"
          }
        }
      ]
    },
    {
      "cell_type": "markdown",
      "metadata": {
        "deletable": false,
        "editable": false,
        "nbgrader": {
          "cell_type": "markdown",
          "checksum": "c21cc02771d9fcf31427a105a57202db",
          "grade": false,
          "grade_id": "cell-92c87e4fb225de5c",
          "locked": true,
          "schema_version": 3,
          "solution": false,
          "task": false
        },
        "id": "NqSmCznuYxbl"
      },
      "source": [
        "Generate a pie chart of gender frequency counts by implementing the function `plot_gender_pie`.\n",
        "\n",
        "![gender pie](img/gender-pie.png)\n",
        "\n",
        "We ususally wouldn't define a function to produce a simple plot like this, but we need to here for the purpose of unit testing.\n",
        "\n",
        "- the frequency counts should be sorted according to the default sort order (descending)\n",
        "\n",
        "Pie charts often need customising to communicate effectively. Customise this plot by providing parameters to the `pandas.plot.pie` method.\n",
        "\n",
        "- add percent labels to zero decimal places using the format string '%1.0f%%'\n",
        "- place the largest category across the top of the plot by specifying a start angle of 180 degrees\n",
        "- draw the pie chart clockwise in direction\n",
        "- set the label to an empty string\n",
        "- set the title to 'Survey respondents: Gender'\n",
        "- add a table summarising the frequency of each category"
      ]
    },
    {
      "cell_type": "code",
      "metadata": {
        "deletable": false,
        "nbgrader": {
          "cell_type": "code",
          "checksum": "3be1064d5630a9b9a98eeeb50fedf7c2",
          "grade": false,
          "grade_id": "cell-51cded34901240e8",
          "locked": false,
          "schema_version": 3,
          "solution": true,
          "task": false
        },
        "colab": {
          "base_uri": "https://localhost:8080/",
          "height": 288
        },
        "id": "9sY1Kmz2Yxbl",
        "outputId": "b1f7eafd-02b2-4267-8970-770147ac1b7e"
      },
      "source": [
        "def plot_gender_pie():\n",
        "    # YOUR CODE HERE\n",
        "    # raise NotImplementedError()\n",
        "    # No need to return anything here.\n",
        "    ax = df['gender'].value_counts().plot.pie(\n",
        "        \n",
        "        autopct='%1.0f%%',\n",
        "        startangle=180,\n",
        "        counterclock=False,\n",
        "        label='',\n",
        "        title='Survey respondents: Gender',\n",
        "        table=True)\n",
        "\n",
        "plot_gender_pie()\n",
        "plt.show()"
      ],
      "execution_count": 107,
      "outputs": [
        {
          "output_type": "display_data",
          "data": {
            "image/png": "[encoded data removed]",
            "text/plain": [
              "<Figure size 432x288 with 1 Axes>"
            ]
          },
          "metadata": {
            "tags": []
          }
        }
      ]
    },
    {
      "cell_type": "code",
      "metadata": {
        "deletable": false,
        "editable": false,
        "nbgrader": {
          "cell_type": "code",
          "checksum": "c5eb0f79244447242e524424c8138489",
          "grade": true,
          "grade_id": "cell-22ecbbf8f99a1b35",
          "locked": true,
          "points": 1,
          "schema_version": 3,
          "solution": false,
          "task": false
        },
        "id": "QBARfV6TYxbl"
      },
      "source": [
        "with patch('pandas.Series.plot.pie') as mock_pie:\n",
        "    plot_gender_pie()\n",
        "mock_pie.assert_called_once_with(autopct='%1.0f%%',\n",
        "                                 startangle=180,\n",
        "                                 counterclock=False,\n",
        "                                 label='',\n",
        "                                 title='Survey respondents: Gender',\n",
        "                                 table=True)"
      ],
      "execution_count": 108,
      "outputs": []
    },
    {
      "cell_type": "markdown",
      "metadata": {
        "deletable": false,
        "editable": false,
        "nbgrader": {
          "cell_type": "markdown",
          "checksum": "7b9bbdece01af555f8d1c19d0ceba785",
          "grade": false,
          "grade_id": "cell-0c823624dd731e0d",
          "locked": true,
          "schema_version": 3,
          "solution": false,
          "task": false
        },
        "id": "gtpTmeOLYxbl"
      },
      "source": [
        "## Transport"
      ]
    },
    {
      "cell_type": "markdown",
      "metadata": {
        "deletable": false,
        "editable": false,
        "nbgrader": {
          "cell_type": "markdown",
          "checksum": "1f2259725aaf3cbdcf7e7b66812ac2f2",
          "grade": false,
          "grade_id": "cell-d630b8845045650a",
          "locked": true,
          "schema_version": 3,
          "solution": false,
          "task": false
        },
        "id": "S8f4wUejYxbl"
      },
      "source": [
        "Now generate a bar and/or pie chart of `transport` (\"Most common mode of transport taken to university\").\n",
        "\n",
        "There are no marks for this because it's basically the same as visualising the frequency counts of `gender`!"
      ]
    },
    {
      "cell_type": "code",
      "metadata": {
        "colab": {
          "base_uri": "https://localhost:8080/",
          "height": 404
        },
        "id": "Lo0m_VPSYxbl",
        "outputId": "025c795c-ddae-4928-ea11-0c39c14c2e65"
      },
      "source": [
        "# Most common mode of transport taken to university\n",
        "def transport_chart():\n",
        "    ax = df['transport'].value_counts().plot(kind='barh', figsize=(8, 6))\n",
        "    #ax = plt.barh(freq, )\n",
        "\n",
        "    ax.set_xlabel('frequency')\n",
        "    ax.set_ylabel ('Transport')\n",
        "    ax.set_title(\"Tranport to Uni\")\n",
        "    return ax\n",
        "\n",
        "transport_bar_ax = transport_chart()\n",
        "plt.show()"
      ],
      "execution_count": 94,
      "outputs": [
        {
          "output_type": "display_data",
          "data": {
            "image/png": "[encoded data removed]",
            "text/plain": [
              "<Figure size 576x432 with 1 Axes>"
            ]
          },
          "metadata": {
            "tags": [],
            "needs_background": "light"
          }
        }
      ]
    },
    {
      "cell_type": "markdown",
      "metadata": {
        "deletable": false,
        "editable": false,
        "nbgrader": {
          "cell_type": "markdown",
          "checksum": "b820f2d253cc76fe5c2c98760d8f4cf8",
          "grade": false,
          "grade_id": "cell-9bf505174d6d138e",
          "locked": true,
          "schema_version": 3,
          "solution": false,
          "task": false
        },
        "id": "EFjUrjFvYxbl"
      },
      "source": [
        "## Number of journeys"
      ]
    },
    {
      "cell_type": "markdown",
      "metadata": {
        "deletable": false,
        "editable": false,
        "nbgrader": {
          "cell_type": "markdown",
          "checksum": "8efa62c60c857724bb3ec24b5bbbe418",
          "grade": false,
          "grade_id": "cell-1a9fab6cd73bfb38",
          "locked": true,
          "schema_version": 3,
          "solution": false,
          "task": false
        },
        "id": "d5DPJJ_BYxbl"
      },
      "source": [
        "Complete the following text description of the number of journeys taken each week by providing the arguments to the format function.\n",
        "\n",
        "You need to generate the correct values by calling the approprate pandas methods.\n",
        "\n",
        "- hint: mode returns an array (as there may be more than a single mode), therefore you will need to extract the first value"
      ]
    },
    {
      "cell_type": "code",
      "metadata": {
        "deletable": false,
        "editable": false,
        "nbgrader": {
          "cell_type": "code",
          "checksum": "fc5cff0eb4d508b51776da0107bf6262",
          "grade": false,
          "grade_id": "cell-0eeff7c1b14720c9",
          "locked": true,
          "schema_version": 3,
          "solution": false,
          "task": false
        },
        "id": "ExeVFJ1bYxbl"
      },
      "source": [
        "num_journey_info = (\n",
        "    'The typical number of journeys taken each week to university ranges from {min} to {max}. \\n'\n",
        "    'The most common number of journeys taken each week is {mode}. \\n'\n",
        "    'However, the mean number of journeys taken each week is {mean}, \\n'\n",
        "    'indicating that the distribtion may be negatively-skewed.\\n'\n",
        ")"
      ],
      "execution_count": 119,
      "outputs": []
    },
    {
      "cell_type": "code",
      "metadata": {
        "deletable": false,
        "nbgrader": {
          "cell_type": "code",
          "checksum": "3da54a605f13f5f717e542d2096ada34",
          "grade": false,
          "grade_id": "cell-05fd71b02127a643",
          "locked": false,
          "schema_version": 3,
          "solution": true,
          "task": false
        },
        "colab": {
          "base_uri": "https://localhost:8080/"
        },
        "id": "MKCYqiJMYxbl",
        "outputId": "e23cd33b-31e5-473c-daeb-2c661442e47b"
      },
      "source": [
        "def format_num_journey_info():\n",
        "    return num_journey_info.format(\n",
        "        min=df['num_journeys'].min(),\n",
        "        \n",
        "        max=df['num_journeys'].max(),\n",
        "        mode=df['num_journeys'].mode()[0],\n",
        "        mean=df['num_journeys'].mean()\n",
        "        \n",
        "\n",
        "    )\n",
        "\n",
        "print(format_num_journey_info())"
      ],
      "execution_count": 120,
      "outputs": [
        {
          "output_type": "stream",
          "text": [
            "The typical number of journeys taken each week to university ranges from 1 to 5. \n",
            "The most common number of journeys taken each week is 4. \n",
            "However, the mean number of journeys taken each week is 3.21, \n",
            "indicating that the distribtion may be negatively-skewed.\n",
            "\n"
          ],
          "name": "stdout"
        }
      ]
    },
    {
      "cell_type": "code",
      "metadata": {
        "deletable": false,
        "editable": false,
        "nbgrader": {
          "cell_type": "code",
          "checksum": "e93393e7ce85071482c815461c5967ec",
          "grade": true,
          "grade_id": "cell-29924a808819ad9b",
          "locked": true,
          "points": 1,
          "schema_version": 3,
          "solution": false,
          "task": false
        },
        "id": "sfgAVqohYxbl"
      },
      "source": [
        "with patch('pandas.Series.min') as mock_min:\n",
        "    format_num_journey_info()\n",
        "mock_min.assert_called_once_with()\n",
        "\n",
        "with patch('pandas.Series.max') as mock_max:\n",
        "    format_num_journey_info()\n",
        "mock_max.assert_called_once_with()\n",
        "\n",
        "with patch('pandas.Series.mode') as mock_mode:\n",
        "    format_num_journey_info()\n",
        "mock_mode.assert_called_once_with()\n",
        "\n",
        "with patch('pandas.Series.mean') as mock_mean:\n",
        "    format_num_journey_info()\n",
        "mock_mean.assert_called_once_with()\n",
        "\n",
        "assert format_num_journey_info() == 'The typical number of journeys taken each week to university ranges from 1 to 5. The most common number of journeys taken each week is 4. However, the mean number of journeys taken each week is 3.21, indicating that the distribtion may be negatively-skewed.'"
      ],
      "execution_count": 118,
      "outputs": []
    },
    {
      "cell_type": "markdown",
      "metadata": {
        "deletable": false,
        "editable": false,
        "nbgrader": {
          "cell_type": "markdown",
          "checksum": "9e4cde1872cdadb961d129b0df6bb5b7",
          "grade": false,
          "grade_id": "cell-2df1c66fe162d8d0",
          "locked": true,
          "schema_version": 3,
          "solution": false,
          "task": false
        },
        "id": "GcjW4ii9Yxbl"
      },
      "source": [
        "Implement the function `num_journeys_skew` to return the skewness statistic of the `num_journeys` variable, rounded to two decimal places."
      ]
    },
    {
      "cell_type": "code",
      "metadata": {
        "deletable": false,
        "nbgrader": {
          "cell_type": "code",
          "checksum": "fc10fe00bb39f1e5da1823f507da2fd2",
          "grade": false,
          "grade_id": "cell-4a41c26a2467c180",
          "locked": false,
          "schema_version": 3,
          "solution": true,
          "task": false
        },
        "colab": {
          "base_uri": "https://localhost:8080/"
        },
        "id": "GXVH2vzKYxbl",
        "outputId": "4451fdf1-772b-44e4-8f9a-e0dd6ab3ddf9"
      },
      "source": [
        "def num_journeys_skew():\n",
        "    # return ...\n",
        "    # YOUR CODE HERE\n",
        "    #raise NotImplementedError()\n",
        "    return df['num_journeys'].skew().round(2)\n",
        "    \n",
        "num_journeys_skew()"
      ],
      "execution_count": 122,
      "outputs": [
        {
          "output_type": "execute_result",
          "data": {
            "text/plain": [
              "-0.24"
            ]
          },
          "metadata": {
            "tags": []
          },
          "execution_count": 122
        }
      ]
    },
    {
      "cell_type": "code",
      "metadata": {
        "deletable": false,
        "editable": false,
        "nbgrader": {
          "cell_type": "code",
          "checksum": "51b11a183ae87b17daf95655b87dca32",
          "grade": true,
          "grade_id": "cell-837b2b6e0a7aae4b",
          "locked": true,
          "points": 1,
          "schema_version": 3,
          "solution": false,
          "task": false
        },
        "id": "hfb5_cFkYxbl"
      },
      "source": [
        "with patch('pandas.Series.skew') as mock_skew:\n",
        "    num_journeys_skew()\n",
        "mock_skew.assert_called_once_with()\n",
        "\n",
        "assert num_journeys_skew() == -0.24"
      ],
      "execution_count": 123,
      "outputs": []
    },
    {
      "cell_type": "markdown",
      "metadata": {
        "deletable": false,
        "editable": false,
        "nbgrader": {
          "cell_type": "markdown",
          "checksum": "1acdf79424accbc6fa7dac054ed14490",
          "grade": false,
          "grade_id": "cell-1e584336af4cf8b2",
          "locked": true,
          "schema_version": 3,
          "solution": false,
          "task": false
        },
        "id": "RKCYVa2iYxbl"
      },
      "source": [
        "Create a (vertical) bar chart of the frequency counts of `num_journeys`. As this variable is a discrete numerical variable with a small number of values we can simply count the frequecny of each value (as opposed to a continuous numerical variable where we would need to use a histogram).\n",
        "\n",
        "![number of journeys bar](img/num-journeys-bar.png)\n",
        "\n",
        "We ususally wouldn't define a function to produce a simple plot like this, but we need to here for the purpose of unit testing.\n",
        "\n",
        "- do not sort the values by frequency\n",
        "- rotate the x-axis tick labes so that they are more readable\n",
        "- customise the plot using the `Axes` methods\n",
        "    - set the x-axis label to: 'number of journeys'\n",
        "    - set the y-axis label to: 'frequency'\n",
        "    - set the title to: 'Typical number of journeys taken to university each week'\n",
        "- return the `Axis` object for unit testing"
      ]
    },
    {
      "cell_type": "code",
      "metadata": {
        "deletable": false,
        "nbgrader": {
          "cell_type": "code",
          "checksum": "e4ef078adb24430d907870794ec1e5d7",
          "grade": false,
          "grade_id": "cell-c906e406ba7046fa",
          "locked": false,
          "schema_version": 3,
          "solution": true,
          "task": false
        },
        "colab": {
          "base_uri": "https://localhost:8080/",
          "height": 295
        },
        "id": "i4uTfFz8Yxbl",
        "outputId": "3c6a28e5-512e-4fd1-e4a7-649290702928"
      },
      "source": [
        "def plot_num_journeys_bar():\n",
        "    # ax = ...\n",
        "    # YOUR CODE HERE\n",
        "    #raise NotImplementedError()\n",
        "    # Return the Axes object for unit testing.\n",
        "    ax = df['num_journeys'].value_counts(sort=False).plot.bar(rot=0)\n",
        "    ax.set_xlabel('number of journeys')\n",
        "    ax.set_ylabel('frequency')\n",
        "    ax.set_title('Typical number of journeys taken to university each week')\n",
        "    \n",
        "    return ax\n",
        "\n",
        "num_journeys_bar_ax = plot_num_journeys_bar()\n",
        "plt.show()"
      ],
      "execution_count": 127,
      "outputs": [
        {
          "output_type": "display_data",
          "data": {
            "image/png": "[encoded data removed]",
            "text/plain": [
              "<Figure size 432x288 with 1 Axes>"
            ]
          },
          "metadata": {
            "tags": [],
            "needs_background": "light"
          }
        }
      ]
    },
    {
      "cell_type": "code",
      "metadata": {
        "deletable": false,
        "editable": false,
        "nbgrader": {
          "cell_type": "code",
          "checksum": "5d39b9b4d0bffc5a3d15d2c79a3187cf",
          "grade": true,
          "grade_id": "cell-3a6facfe6ccee597",
          "locked": true,
          "points": 1,
          "schema_version": 3,
          "solution": false,
          "task": false
        },
        "id": "T4z23HeFYxbl"
      },
      "source": [
        "with patch('pandas.Series.value_counts') as mock_value_counts:\n",
        "    plot_num_journeys_bar()\n",
        "mock_value_counts.assert_called_once_with(sort=False)\n",
        "\n",
        "with patch('pandas.Series.plot.bar') as mock_bar:\n",
        "    ax = plot_num_journeys_bar()\n",
        "mock_bar.assert_called_once_with(rot=0)\n",
        "\n",
        "# Test y labels are correct.\n",
        "x_tick_text = [ticklabel.get_text() for ticklabel in num_journeys_bar_ax.xaxis.get_ticklabels()]\n",
        "assert x_tick_text == ['1', '2', '3', '4', '5']\n",
        "\n",
        "# Test axes labels.\n",
        "assert num_journeys_bar_ax.xaxis.get_label_text() == 'number of journeys'\n",
        "assert num_journeys_bar_ax.yaxis.get_label_text() == 'frequency'\n",
        "assert num_journeys_bar_ax.get_title() == 'Typical number of journeys taken to university each week'"
      ],
      "execution_count": 128,
      "outputs": []
    },
    {
      "cell_type": "markdown",
      "metadata": {
        "deletable": false,
        "editable": false,
        "nbgrader": {
          "cell_type": "markdown",
          "checksum": "12467ce86c526f116fe71e3f275e243c",
          "grade": false,
          "grade_id": "cell-bf4403c50a350673",
          "locked": true,
          "schema_version": 3,
          "solution": false,
          "task": false
        },
        "id": "zIIYOlPIYxbl"
      },
      "source": [
        "Create a box plot of the distribution of `num_journeys`.\n",
        "\n",
        "![number of journeys box](img/num-journeys-box.png)\n",
        "\n",
        "We ususally wouldn't define a function to produce a simple plot like this, but we need to here for the purpose of unit testing.\n",
        "\n",
        "- customise the plot using the `Axes` methods\n",
        "    - set the y-axis label to: 'number of journeys'\n",
        "    - set the title to: 'Typical number of journeys taken to university each week'\n",
        "- return the `Axis` object for unit testing"
      ]
    },
    {
      "cell_type": "code",
      "metadata": {
        "deletable": false,
        "nbgrader": {
          "cell_type": "code",
          "checksum": "4697de9b796a0d6a81febeb7dd1146e7",
          "grade": false,
          "grade_id": "cell-0fd4d794264271e2",
          "locked": false,
          "schema_version": 3,
          "solution": true,
          "task": false
        },
        "colab": {
          "base_uri": "https://localhost:8080/",
          "height": 282
        },
        "id": "-EnznbfCYxbl",
        "outputId": "87cdbbb3-c277-4ae3-9ba5-3c9734af6222"
      },
      "source": [
        "def plot_num_journeys_box():\n",
        "    # ax = ...\n",
        "    # YOUR CODE HERE\n",
        "    #raise NotImplementedError()\n",
        "    # Return the Axes object for unit testing.\n",
        "    ax = df['num_journeys'].plot.box()\n",
        "    ax.set_ylabel('number of journeys')\n",
        "    ax.set_title('Typical number of journeys taken to university each week')\n",
        "    return ax\n",
        "\n",
        "num_journeys_box_ax = plot_num_journeys_box()\n",
        "plt.show()"
      ],
      "execution_count": 129,
      "outputs": [
        {
          "output_type": "display_data",
          "data": {
            "image/png": "[encoded data removed]",
            "text/plain": [
              "<Figure size 432x288 with 1 Axes>"
            ]
          },
          "metadata": {
            "tags": [],
            "needs_background": "light"
          }
        }
      ]
    },
    {
      "cell_type": "code",
      "metadata": {
        "deletable": false,
        "editable": false,
        "nbgrader": {
          "cell_type": "code",
          "checksum": "00f29fe034074db5f7a41272b9cf7595",
          "grade": true,
          "grade_id": "cell-0be3679d75d50599",
          "locked": true,
          "points": 1,
          "schema_version": 3,
          "solution": false,
          "task": false
        },
        "id": "lA_tIPW8Yxbl"
      },
      "source": [
        "with patch('pandas.Series.plot.box') as mock_box:\n",
        "    ax = plot_num_journeys_box()\n",
        "mock_box.assert_called_once_with()\n",
        "\n",
        "# Test axes labels.\n",
        "assert num_journeys_box_ax.yaxis.get_label_text() == 'number of journeys'\n",
        "assert num_journeys_box_ax.get_title() == 'Typical number of journeys taken to university each week'"
      ],
      "execution_count": 130,
      "outputs": []
    },
    {
      "cell_type": "markdown",
      "metadata": {
        "deletable": false,
        "editable": false,
        "nbgrader": {
          "cell_type": "markdown",
          "checksum": "d38c200381e7a793909ad9b8b8ce5383",
          "grade": false,
          "grade_id": "cell-86aa6181606e059a",
          "locked": true,
          "schema_version": 3,
          "solution": false,
          "task": false
        },
        "id": "Pdni7DXuYxbl"
      },
      "source": [
        "## Journey time"
      ]
    },
    {
      "cell_type": "markdown",
      "metadata": {
        "deletable": false,
        "editable": false,
        "nbgrader": {
          "cell_type": "markdown",
          "checksum": "98bba061c04bba98b8fcd3e4afc43159",
          "grade": false,
          "grade_id": "cell-fe1503a0a5e4b514",
          "locked": true,
          "schema_version": 3,
          "solution": false,
          "task": false
        },
        "id": "FRT9hem_Yxbl"
      },
      "source": [
        "Create a histogram of the distribution of `journey_time`.\n",
        "\n",
        "![journey time hist](img/journey-time-hist.png)\n",
        "\n",
        "We ususally wouldn't define a function to produce a simple plot like this, but we need to here for the purpose of unit testing.\n",
        "\n",
        "- set the histogram bins to 5 minute intervals (from 5 to 60)\n",
        "- customise the plot using the `Axes` methods\n",
        "    - set the x-axis label to: 'journey time (minutes)'\n",
        "    - set the y-axis label to: 'frequency'\n",
        "    - set the title to: 'Distribution of journey time to university each week'\n",
        "- return the `Axis` object for unit testing"
      ]
    },
    {
      "cell_type": "code",
      "metadata": {
        "deletable": false,
        "nbgrader": {
          "cell_type": "code",
          "checksum": "2087a54eea971e1b985d57449a10b5ea",
          "grade": false,
          "grade_id": "cell-4aa1de0303b0133b",
          "locked": false,
          "schema_version": 3,
          "solution": true,
          "task": false
        },
        "colab": {
          "base_uri": "https://localhost:8080/",
          "height": 295
        },
        "id": "v7p6MTMrYxbl",
        "outputId": "518d0439-4bc0-4413-e616-7f5481a7f87c"
      },
      "source": [
        "def plot_journey_time_hist():\n",
        "    # ax = ...\n",
        "    # YOUR CODE HERE\n",
        "    #raise NotImplementedError()\n",
        "    # Return the Axes object for unit testing.\n",
        "\n",
        "    bin_size = 5\n",
        "    start = round(df['journey_time'].min() / bin_size) * bin_size\n",
        "    end = df['journey_time'].max() + bin_size\n",
        "    bins = np.arange(start, end, bin_size)\n",
        "    \n",
        "    ax = df['journey_time'].plot.hist(bins=bins)\n",
        "    ax.set_ylabel('frequency')\n",
        "    ax.set_xlabel('journey time (minutes)')\n",
        "    ax.set_title('Distribution of journey time to university each week')\n",
        "    return ax\n",
        "\n",
        "journey_time_hist_ax = plot_journey_time_hist()\n",
        "plt.show()"
      ],
      "execution_count": 132,
      "outputs": [
        {
          "output_type": "display_data",
          "data": {
            "image/png": "[encoded data removed]",
            "text/plain": [
              "<Figure size 432x288 with 1 Axes>"
            ]
          },
          "metadata": {
            "tags": [],
            "needs_background": "light"
          }
        }
      ]
    },
    {
      "cell_type": "code",
      "metadata": {
        "deletable": false,
        "editable": false,
        "nbgrader": {
          "cell_type": "code",
          "checksum": "0aba91c7f15abc15ba08eebd90802245",
          "grade": true,
          "grade_id": "cell-9a26bf9fbe27b92f",
          "locked": true,
          "points": 1,
          "schema_version": 3,
          "solution": false,
          "task": false
        },
        "id": "emUJ_Q3CYxbl"
      },
      "source": [
        "with patch('pandas.Series.plot.hist') as mock_hist:\n",
        "    ax = plot_journey_time_hist()\n",
        "mock_hist.assert_called()\n",
        "\n",
        "def test_bins(bins):\n",
        "    _bins = [5, 10, 15, 20, 25, 30, 35, 40, 45, 50, 55, 60]\n",
        "    if type(bins) is np.ndarray:\n",
        "        if len(bins) == len(_bins):\n",
        "            return (bins == _bins).all()\n",
        "        else:\n",
        "            return False\n",
        "    else:\n",
        "        return bins == _bins\n",
        "\n",
        "assert test_bins(mock_hist.call_args_list[0][1]['bins'])\n",
        "\n",
        "# Test axes labels.\n",
        "assert journey_time_hist_ax.yaxis.get_label_text() == 'frequency'\n",
        "assert journey_time_hist_ax.get_title() == 'Distribution of journey time to university each week'"
      ],
      "execution_count": 133,
      "outputs": []
    },
    {
      "cell_type": "code",
      "metadata": {
        "id": "8BksZIYtJ_CN"
      },
      "source": [
        ""
      ],
      "execution_count": null,
      "outputs": []
    }
  ]
}